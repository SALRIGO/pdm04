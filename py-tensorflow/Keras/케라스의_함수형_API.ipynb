{
  "nbformat": 4,
  "nbformat_minor": 0,
  "metadata": {
    "colab": {
      "name": "케라스의 함수형 API.ipynb",
      "provenance": [],
      "collapsed_sections": [],
      "include_colab_link": true
    },
    "kernelspec": {
      "name": "python3",
      "display_name": "Python 3"
    },
    "language_info": {
      "name": "python"
    }
  },
  "cells": [
    {
      "cell_type": "markdown",
      "metadata": {
        "id": "view-in-github",
        "colab_type": "text"
      },
      "source": [
        "<a href=\"https://colab.research.google.com/github/SALRIGO/pdm04/blob/main/py-tensorflow/Keras/%EC%BC%80%EB%9D%BC%EC%8A%A4%EC%9D%98_%ED%95%A8%EC%88%98%ED%98%95_API.ipynb\" target=\"_parent\"><img src=\"https://colab.research.google.com/assets/colab-badge.svg\" alt=\"Open In Colab\"/></a>"
      ]
    },
    {
      "cell_type": "markdown",
      "metadata": {
        "id": "4xzBewpBPvSU"
      },
      "source": [
        "이 자료는 위키독스 딥 러닝을 이용한 자연어 처리 입문의 함수형 API 튜토리얼입니다.  \n",
        "링크 : https://wikidocs.net/38861\n",
        "\n",
        "> 참고자료: https://teddylee777.github.io/tensorflow/functional-api"
      ]
    },
    {
      "cell_type": "markdown",
      "metadata": {
        "id": "6A2uEJ3APvSV"
      },
      "source": [
        "2021년 10월 12일에 마지막으로 테스트되었습니다.\n",
        "- 2021년 11월 11일 보완."
      ]
    },
    {
      "cell_type": "code",
      "metadata": {
        "id": "Kecr2o6zg27y"
      },
      "source": [
        "import tensorflow as tf"
      ],
      "execution_count": 1,
      "outputs": []
    },
    {
      "cell_type": "code",
      "metadata": {
        "id": "ND9N4tufhCk5",
        "colab": {
          "base_uri": "https://localhost:8080/",
          "height": 35
        },
        "outputId": "0181ef8a-94de-4752-8d6f-8672c1a4377e"
      },
      "source": [
        "tf.__version__"
      ],
      "execution_count": 2,
      "outputs": [
        {
          "output_type": "execute_result",
          "data": {
            "application/vnd.google.colaboratory.intrinsic+json": {
              "type": "string"
            },
            "text/plain": [
              "'2.7.0'"
            ]
          },
          "metadata": {},
          "execution_count": 2
        }
      ]
    },
    {
      "cell_type": "markdown",
      "metadata": {
        "id": "oA1aH__hhOwx"
      },
      "source": [
        "# Keras Model API\n",
        "- Sequential API\n",
        "- Functional API\n",
        "- Subclassing API\n",
        "---\n",
        "## 1. Sequential API"
      ]
    },
    {
      "cell_type": "code",
      "metadata": {
        "id": "EqhaoOSJhDHg",
        "colab": {
          "base_uri": "https://localhost:8080/"
        },
        "outputId": "49b95119-bdb6-43d6-98a9-77f3606d4143"
      },
      "source": [
        "from tensorflow.keras.models import Sequential\n",
        "from tensorflow.keras.layers import Dense\n",
        "\n",
        "# input-Output Model (No hidden layer)\n",
        "model = Sequential()\n",
        "model.add(Dense(3, input_dim=4, activation='softmax'))\n",
        "model.summary()\n",
        "model.compile(optimizer='rmsprop', loss='categorical_crossentropy', metrics=['accuracy'])"
      ],
      "execution_count": 3,
      "outputs": [
        {
          "output_type": "stream",
          "name": "stdout",
          "text": [
            "Model: \"sequential\"\n",
            "_________________________________________________________________\n",
            " Layer (type)                Output Shape              Param #   \n",
            "=================================================================\n",
            " dense (Dense)               (None, 3)                 15        \n",
            "                                                                 \n",
            "=================================================================\n",
            "Total params: 15\n",
            "Trainable params: 15\n",
            "Non-trainable params: 0\n",
            "_________________________________________________________________\n"
          ]
        }
      ]
    },
    {
      "cell_type": "code",
      "metadata": {
        "id": "ZvhbanWUyXX1",
        "colab": {
          "base_uri": "https://localhost:8080/",
          "height": 174
        },
        "outputId": "1b502d0b-f209-40a4-f383-72f92f8da5ff"
      },
      "source": [
        "# Plt model\n",
        "from tensorflow.keras.utils import plot_model\n",
        "plot_model(model) #, show_shapes=True, show_layer_names=True, to_file='model_S.png')"
      ],
      "execution_count": 4,
      "outputs": [
        {
          "output_type": "execute_result",
          "data": {
            "image/png": "[encoded data removed]",
            "text/plain": [
              "<IPython.core.display.Image object>"
            ]
          },
          "metadata": {},
          "execution_count": 4
        }
      ]
    },
    {
      "cell_type": "markdown",
      "metadata": {
        "id": "TR7Hz0RYn_7Q"
      },
      "source": [
        "## [DIY] 위의 모델에 hidden layer를 다음과 같이 추가하여 model_h1 을 만드시오.\n",
        "- number of neurons: 10\n",
        "- activation function; 'relu'\n"
      ]
    },
    {
      "cell_type": "code",
      "metadata": {
        "id": "TraVK4EhoeIp",
        "colab": {
          "base_uri": "https://localhost:8080/"
        },
        "outputId": "b681b764-584f-44db-8dd0-4e9d5f3c54ad"
      },
      "source": [
        "# Your model : model_h1\n",
        "model_h1 = Sequential()\n",
        "model_h1.add(Dense(10, input_dim=4, activation='relu'))\n",
        "model_h1.add(Dense(3, activation='softmax'))\n",
        "model_h1.summary()\n",
        "model_h1.compile(optimizer='rmsprop', loss='categorical_crossentropy', metrics=['accuracy'])"
      ],
      "execution_count": 5,
      "outputs": [
        {
          "output_type": "stream",
          "name": "stdout",
          "text": [
            "Model: \"sequential_1\"\n",
            "_________________________________________________________________\n",
            " Layer (type)                Output Shape              Param #   \n",
            "=================================================================\n",
            " dense_1 (Dense)             (None, 10)                50        \n",
            "                                                                 \n",
            " dense_2 (Dense)             (None, 3)                 33        \n",
            "                                                                 \n",
            "=================================================================\n",
            "Total params: 83\n",
            "Trainable params: 83\n",
            "Non-trainable params: 0\n",
            "_________________________________________________________________\n"
          ]
        }
      ]
    },
    {
      "cell_type": "code",
      "metadata": {
        "colab": {
          "base_uri": "https://localhost:8080/",
          "height": 272
        },
        "id": "S-v_WJjr56bc",
        "outputId": "0e9f37b8-5dc3-4db4-db93-c97c849f9eb9"
      },
      "source": [
        "plot_model(model_h1) #, show_shapes=True, show_layer_names=True, to_file='model_S.png')"
      ],
      "execution_count": 6,
      "outputs": [
        {
          "output_type": "execute_result",
          "data": {
            "image/png": "[encoded data removed]",
            "text/plain": [
              "<IPython.core.display.Image object>"
            ]
          },
          "metadata": {},
          "execution_count": 6
        }
      ]
    },
    {
      "cell_type": "markdown",
      "metadata": {
        "id": "0OpCJGUuhQHe"
      },
      "source": [
        "# 2. Functional API"
      ]
    },
    {
      "cell_type": "markdown",
      "metadata": {
        "id": "Kpg7erK5hSI_"
      },
      "source": [
        "## 2-1. FFNN (Feed-Forward Neural Networks)"
      ]
    },
    {
      "cell_type": "code",
      "metadata": {
        "id": "qRsxxH32hDYg"
      },
      "source": [
        "from tensorflow.keras.layers import Input, Dense\n",
        "from tensorflow.keras.models import Model"
      ],
      "execution_count": 7,
      "outputs": []
    },
    {
      "cell_type": "code",
      "metadata": {
        "id": "9W28qN5xhORg"
      },
      "source": [
        "inputs = Input(shape=(10,))\n",
        "hidden1 = Dense(64, activation='relu')(inputs)  \n",
        "hidden2 = Dense(64, activation='relu')(hidden1)\n",
        "output = Dense(1, activation='sigmoid')(hidden2)\n",
        "model = Model(inputs=inputs, outputs=output)"
      ],
      "execution_count": 9,
      "outputs": []
    },
    {
      "cell_type": "code",
      "metadata": {
        "id": "Dxr1LrcEhT-Q",
        "colab": {
          "base_uri": "https://localhost:8080/"
        },
        "outputId": "712d4114-005f-43e4-cdbf-c8b88b866561"
      },
      "source": [
        "model.compile(optimizer='rmsprop', loss='categorical_crossentropy', metrics=['accuracy'])\n",
        "model.summary()"
      ],
      "execution_count": 10,
      "outputs": [
        {
          "output_type": "stream",
          "name": "stdout",
          "text": [
            "Model: \"model_1\"\n",
            "_________________________________________________________________\n",
            " Layer (type)                Output Shape              Param #   \n",
            "=================================================================\n",
            " input_2 (InputLayer)        [(None, 10)]              0         \n",
            "                                                                 \n",
            " dense_6 (Dense)             (None, 64)                704       \n",
            "                                                                 \n",
            " dense_7 (Dense)             (None, 64)                4160      \n",
            "                                                                 \n",
            " dense_8 (Dense)             (None, 1)                 65        \n",
            "                                                                 \n",
            "=================================================================\n",
            "Total params: 4,929\n",
            "Trainable params: 4,929\n",
            "Non-trainable params: 0\n",
            "_________________________________________________________________\n"
          ]
        }
      ]
    },
    {
      "cell_type": "code",
      "metadata": {
        "id": "CBJ3779yyvG0",
        "colab": {
          "base_uri": "https://localhost:8080/",
          "height": 369
        },
        "outputId": "d9027726-f5c7-44a0-9cc9-df7e7e3bf0a8"
      },
      "source": [
        "plot_model(model) #, show_shapes=True, show_layer_names=True, to_file='model_F.png')"
      ],
      "execution_count": 11,
      "outputs": [
        {
          "output_type": "execute_result",
          "data": {
            "image/png": "[encoded data removed]",
            "text/plain": [
              "<IPython.core.display.Image object>"
            ]
          },
          "metadata": {},
          "execution_count": 11
        }
      ]
    },
    {
      "cell_type": "markdown",
      "metadata": {
        "id": "MXNy5F8rhnYs"
      },
      "source": [
        "## 2-2. Linear Regression\n",
        "> 참고: https://wikidocs.net/111472"
      ]
    },
    {
      "cell_type": "code",
      "metadata": {
        "id": "3y3m4iG0hnHx",
        "colab": {
          "base_uri": "https://localhost:8080/"
        },
        "outputId": "0cac8236-1ed2-4960-cc7c-b7f19716bd52"
      },
      "source": [
        "from tensorflow.keras.layers import Input, Dense\n",
        "from tensorflow.keras import optimizers\n",
        "from tensorflow.keras.models import Model\n",
        "\n",
        "X = [1, 2, 3, 4, 5, 6, 7, 8, 9] # 공부하는 시간\n",
        "y = [11, 22, 33, 44, 53, 66, 77, 87, 95] # 각 공부하는 시간에 맵핑되는 성적\n",
        "\n",
        "inputs = Input(shape=(1,))\n",
        "output = Dense(1, activation='linear')(inputs)\n",
        "linear_model = Model(inputs, output)\n",
        "\n",
        "sgd = optimizers.SGD(learning_rate=0.01)\n",
        "\n",
        "linear_model.compile(optimizer=sgd ,loss='mse',metrics=['mse'])\n",
        "linear_model.fit(X, y, epochs=300)"
      ],
      "execution_count": 12,
      "outputs": [
        {
          "output_type": "stream",
          "name": "stdout",
          "text": [
            "Epoch 1/300\n",
            "1/1 [==============================] - 1s 651ms/step - loss: 4029.4241 - mse: 4029.4241\n",
            "Epoch 2/300\n",
            "1/1 [==============================] - 0s 5ms/step - loss: 496.8827 - mse: 496.8827\n",
            "Epoch 3/300\n",
            "1/1 [==============================] - 0s 5ms/step - loss: 62.2285 - mse: 62.2285\n",
            "Epoch 4/300\n",
            "1/1 [==============================] - 0s 6ms/step - loss: 8.7462 - mse: 8.7462\n",
            "Epoch 5/300\n",
            "1/1 [==============================] - 0s 6ms/step - loss: 2.1643 - mse: 2.1643\n",
            "Epoch 6/300\n",
            "1/1 [==============================] - 0s 6ms/step - loss: 1.3531 - mse: 1.3531\n",
            "Epoch 7/300\n",
            "1/1 [==============================] - 0s 5ms/step - loss: 1.2520 - mse: 1.2520\n",
            "Epoch 8/300\n",
            "1/1 [==============================] - 0s 5ms/step - loss: 1.2383 - mse: 1.2383\n",
            "Epoch 9/300\n",
            "1/1 [==============================] - 0s 5ms/step - loss: 1.2353 - mse: 1.2353\n",
            "Epoch 10/300\n",
            "1/1 [==============================] - 0s 5ms/step - loss: 1.2337 - mse: 1.2337\n",
            "Epoch 11/300\n",
            "1/1 [==============================] - 0s 5ms/step - loss: 1.2323 - mse: 1.2323\n",
            "Epoch 12/300\n",
            "1/1 [==============================] - 0s 4ms/step - loss: 1.2309 - mse: 1.2309\n",
            "Epoch 13/300\n",
            "1/1 [==============================] - 0s 5ms/step - loss: 1.2295 - mse: 1.2295\n",
            "Epoch 14/300\n",
            "1/1 [==============================] - 0s 5ms/step - loss: 1.2281 - mse: 1.2281\n",
            "Epoch 15/300\n",
            "1/1 [==============================] - 0s 6ms/step - loss: 1.2267 - mse: 1.2267\n",
            "Epoch 16/300\n",
            "1/1 [==============================] - 0s 5ms/step - loss: 1.2253 - mse: 1.2253\n",
            "Epoch 17/300\n",
            "1/1 [==============================] - 0s 5ms/step - loss: 1.2240 - mse: 1.2240\n",
            "Epoch 18/300\n",
            "1/1 [==============================] - 0s 5ms/step - loss: 1.2226 - mse: 1.2226\n",
            "Epoch 19/300\n",
            "1/1 [==============================] - 0s 5ms/step - loss: 1.2213 - mse: 1.2213\n",
            "Epoch 20/300\n",
            "1/1 [==============================] - 0s 10ms/step - loss: 1.2200 - mse: 1.2200\n",
            "Epoch 21/300\n",
            "1/1 [==============================] - 0s 7ms/step - loss: 1.2187 - mse: 1.2187\n",
            "Epoch 22/300\n",
            "1/1 [==============================] - 0s 5ms/step - loss: 1.2174 - mse: 1.2174\n",
            "Epoch 23/300\n",
            "1/1 [==============================] - 0s 9ms/step - loss: 1.2161 - mse: 1.2161\n",
            "Epoch 24/300\n",
            "1/1 [==============================] - 0s 5ms/step - loss: 1.2148 - mse: 1.2148\n",
            "Epoch 25/300\n",
            "1/1 [==============================] - 0s 7ms/step - loss: 1.2135 - mse: 1.2135\n",
            "Epoch 26/300\n",
            "1/1 [==============================] - 0s 6ms/step - loss: 1.2123 - mse: 1.2123\n",
            "Epoch 27/300\n",
            "1/1 [==============================] - 0s 6ms/step - loss: 1.2110 - mse: 1.2110\n",
            "Epoch 28/300\n",
            "1/1 [==============================] - 0s 11ms/step - loss: 1.2098 - mse: 1.2098\n",
            "Epoch 29/300\n",
            "1/1 [==============================] - 0s 9ms/step - loss: 1.2085 - mse: 1.2085\n",
            "Epoch 30/300\n",
            "1/1 [==============================] - 0s 6ms/step - loss: 1.2073 - mse: 1.2073\n",
            "Epoch 31/300\n",
            "1/1 [==============================] - 0s 13ms/step - loss: 1.2061 - mse: 1.2061\n",
            "Epoch 32/300\n",
            "1/1 [==============================] - 0s 6ms/step - loss: 1.2049 - mse: 1.2049\n",
            "Epoch 33/300\n",
            "1/1 [==============================] - 0s 6ms/step - loss: 1.2037 - mse: 1.2037\n",
            "Epoch 34/300\n",
            "1/1 [==============================] - 0s 5ms/step - loss: 1.2025 - mse: 1.2025\n",
            "Epoch 35/300\n",
            "1/1 [==============================] - 0s 5ms/step - loss: 1.2014 - mse: 1.2014\n",
            "Epoch 36/300\n",
            "1/1 [==============================] - 0s 9ms/step - loss: 1.2002 - mse: 1.2002\n",
            "Epoch 37/300\n",
            "1/1 [==============================] - 0s 6ms/step - loss: 1.1991 - mse: 1.1991\n",
            "Epoch 38/300\n",
            "1/1 [==============================] - 0s 6ms/step - loss: 1.1979 - mse: 1.1979\n",
            "Epoch 39/300\n",
            "1/1 [==============================] - 0s 6ms/step - loss: 1.1968 - mse: 1.1968\n",
            "Epoch 40/300\n",
            "1/1 [==============================] - 0s 6ms/step - loss: 1.1957 - mse: 1.1957\n",
            "Epoch 41/300\n",
            "1/1 [==============================] - 0s 6ms/step - loss: 1.1946 - mse: 1.1946\n",
            "Epoch 42/300\n",
            "1/1 [==============================] - 0s 6ms/step - loss: 1.1934 - mse: 1.1934\n",
            "Epoch 43/300\n",
            "1/1 [==============================] - 0s 10ms/step - loss: 1.1923 - mse: 1.1923\n",
            "Epoch 44/300\n",
            "1/1 [==============================] - 0s 7ms/step - loss: 1.1913 - mse: 1.1913\n",
            "Epoch 45/300\n",
            "1/1 [==============================] - 0s 5ms/step - loss: 1.1902 - mse: 1.1902\n",
            "Epoch 46/300\n",
            "1/1 [==============================] - 0s 5ms/step - loss: 1.1891 - mse: 1.1891\n",
            "Epoch 47/300\n",
            "1/1 [==============================] - 0s 6ms/step - loss: 1.1881 - mse: 1.1881\n",
            "Epoch 48/300\n",
            "1/1 [==============================] - 0s 6ms/step - loss: 1.1870 - mse: 1.1870\n",
            "Epoch 49/300\n",
            "1/1 [==============================] - 0s 5ms/step - loss: 1.1860 - mse: 1.1860\n",
            "Epoch 50/300\n",
            "1/1 [==============================] - 0s 5ms/step - loss: 1.1849 - mse: 1.1849\n",
            "Epoch 51/300\n",
            "1/1 [==============================] - 0s 6ms/step - loss: 1.1839 - mse: 1.1839\n",
            "Epoch 52/300\n",
            "1/1 [==============================] - 0s 4ms/step - loss: 1.1829 - mse: 1.1829\n",
            "Epoch 53/300\n",
            "1/1 [==============================] - 0s 6ms/step - loss: 1.1819 - mse: 1.1819\n",
            "Epoch 54/300\n",
            "1/1 [==============================] - 0s 5ms/step - loss: 1.1809 - mse: 1.1809\n",
            "Epoch 55/300\n",
            "1/1 [==============================] - 0s 7ms/step - loss: 1.1799 - mse: 1.1799\n",
            "Epoch 56/300\n",
            "1/1 [==============================] - 0s 7ms/step - loss: 1.1789 - mse: 1.1789\n",
            "Epoch 57/300\n",
            "1/1 [==============================] - 0s 14ms/step - loss: 1.1779 - mse: 1.1779\n",
            "Epoch 58/300\n",
            "1/1 [==============================] - 0s 5ms/step - loss: 1.1770 - mse: 1.1770\n",
            "Epoch 59/300\n",
            "1/1 [==============================] - 0s 6ms/step - loss: 1.1760 - mse: 1.1760\n",
            "Epoch 60/300\n",
            "1/1 [==============================] - 0s 6ms/step - loss: 1.1751 - mse: 1.1751\n",
            "Epoch 61/300\n",
            "1/1 [==============================] - 0s 10ms/step - loss: 1.1741 - mse: 1.1741\n",
            "Epoch 62/300\n",
            "1/1 [==============================] - 0s 21ms/step - loss: 1.1732 - mse: 1.1732\n",
            "Epoch 63/300\n",
            "1/1 [==============================] - 0s 5ms/step - loss: 1.1722 - mse: 1.1722\n",
            "Epoch 64/300\n",
            "1/1 [==============================] - 0s 6ms/step - loss: 1.1713 - mse: 1.1713\n",
            "Epoch 65/300\n",
            "1/1 [==============================] - 0s 6ms/step - loss: 1.1704 - mse: 1.1704\n",
            "Epoch 66/300\n",
            "1/1 [==============================] - 0s 5ms/step - loss: 1.1695 - mse: 1.1695\n",
            "Epoch 67/300\n",
            "1/1 [==============================] - 0s 5ms/step - loss: 1.1686 - mse: 1.1686\n",
            "Epoch 68/300\n",
            "1/1 [==============================] - 0s 5ms/step - loss: 1.1677 - mse: 1.1677\n",
            "Epoch 69/300\n",
            "1/1 [==============================] - 0s 5ms/step - loss: 1.1668 - mse: 1.1668\n",
            "Epoch 70/300\n",
            "1/1 [==============================] - 0s 5ms/step - loss: 1.1660 - mse: 1.1660\n",
            "Epoch 71/300\n",
            "1/1 [==============================] - 0s 7ms/step - loss: 1.1651 - mse: 1.1651\n",
            "Epoch 72/300\n",
            "1/1 [==============================] - 0s 4ms/step - loss: 1.1642 - mse: 1.1642\n",
            "Epoch 73/300\n",
            "1/1 [==============================] - 0s 5ms/step - loss: 1.1634 - mse: 1.1634\n",
            "Epoch 74/300\n",
            "1/1 [==============================] - 0s 6ms/step - loss: 1.1625 - mse: 1.1625\n",
            "Epoch 75/300\n",
            "1/1 [==============================] - 0s 6ms/step - loss: 1.1617 - mse: 1.1617\n",
            "Epoch 76/300\n",
            "1/1 [==============================] - 0s 5ms/step - loss: 1.1608 - mse: 1.1608\n",
            "Epoch 77/300\n",
            "1/1 [==============================] - 0s 6ms/step - loss: 1.1600 - mse: 1.1600\n",
            "Epoch 78/300\n",
            "1/1 [==============================] - 0s 7ms/step - loss: 1.1592 - mse: 1.1592\n",
            "Epoch 79/300\n",
            "1/1 [==============================] - 0s 5ms/step - loss: 1.1584 - mse: 1.1584\n",
            "Epoch 80/300\n",
            "1/1 [==============================] - 0s 10ms/step - loss: 1.1576 - mse: 1.1576\n",
            "Epoch 81/300\n",
            "1/1 [==============================] - 0s 5ms/step - loss: 1.1568 - mse: 1.1568\n",
            "Epoch 82/300\n",
            "1/1 [==============================] - 0s 5ms/step - loss: 1.1560 - mse: 1.1560\n",
            "Epoch 83/300\n",
            "1/1 [==============================] - 0s 5ms/step - loss: 1.1552 - mse: 1.1552\n",
            "Epoch 84/300\n",
            "1/1 [==============================] - 0s 6ms/step - loss: 1.1544 - mse: 1.1544\n",
            "Epoch 85/300\n",
            "1/1 [==============================] - 0s 6ms/step - loss: 1.1536 - mse: 1.1536\n",
            "Epoch 86/300\n",
            "1/1 [==============================] - 0s 5ms/step - loss: 1.1529 - mse: 1.1529\n",
            "Epoch 87/300\n",
            "1/1 [==============================] - 0s 5ms/step - loss: 1.1521 - mse: 1.1521\n",
            "Epoch 88/300\n",
            "1/1 [==============================] - 0s 13ms/step - loss: 1.1513 - mse: 1.1513\n",
            "Epoch 89/300\n",
            "1/1 [==============================] - 0s 6ms/step - loss: 1.1506 - mse: 1.1506\n",
            "Epoch 90/300\n",
            "1/1 [==============================] - 0s 6ms/step - loss: 1.1498 - mse: 1.1498\n",
            "Epoch 91/300\n",
            "1/1 [==============================] - 0s 6ms/step - loss: 1.1491 - mse: 1.1491\n",
            "Epoch 92/300\n",
            "1/1 [==============================] - 0s 6ms/step - loss: 1.1484 - mse: 1.1484\n",
            "Epoch 93/300\n",
            "1/1 [==============================] - 0s 6ms/step - loss: 1.1477 - mse: 1.1477\n",
            "Epoch 94/300\n",
            "1/1 [==============================] - 0s 9ms/step - loss: 1.1469 - mse: 1.1469\n",
            "Epoch 95/300\n",
            "1/1 [==============================] - 0s 5ms/step - loss: 1.1462 - mse: 1.1462\n",
            "Epoch 96/300\n",
            "1/1 [==============================] - 0s 6ms/step - loss: 1.1455 - mse: 1.1455\n",
            "Epoch 97/300\n",
            "1/1 [==============================] - 0s 5ms/step - loss: 1.1448 - mse: 1.1448\n",
            "Epoch 98/300\n",
            "1/1 [==============================] - 0s 6ms/step - loss: 1.1441 - mse: 1.1441\n",
            "Epoch 99/300\n",
            "1/1 [==============================] - 0s 6ms/step - loss: 1.1434 - mse: 1.1434\n",
            "Epoch 100/300\n",
            "1/1 [==============================] - 0s 6ms/step - loss: 1.1427 - mse: 1.1427\n",
            "Epoch 101/300\n",
            "1/1 [==============================] - 0s 5ms/step - loss: 1.1421 - mse: 1.1421\n",
            "Epoch 102/300\n",
            "1/1 [==============================] - 0s 6ms/step - loss: 1.1414 - mse: 1.1414\n",
            "Epoch 103/300\n",
            "1/1 [==============================] - 0s 5ms/step - loss: 1.1407 - mse: 1.1407\n",
            "Epoch 104/300\n",
            "1/1 [==============================] - 0s 5ms/step - loss: 1.1401 - mse: 1.1401\n",
            "Epoch 105/300\n",
            "1/1 [==============================] - 0s 5ms/step - loss: 1.1394 - mse: 1.1394\n",
            "Epoch 106/300\n",
            "1/1 [==============================] - 0s 5ms/step - loss: 1.1387 - mse: 1.1387\n",
            "Epoch 107/300\n",
            "1/1 [==============================] - 0s 5ms/step - loss: 1.1381 - mse: 1.1381\n",
            "Epoch 108/300\n",
            "1/1 [==============================] - 0s 5ms/step - loss: 1.1375 - mse: 1.1375\n",
            "Epoch 109/300\n",
            "1/1 [==============================] - 0s 6ms/step - loss: 1.1368 - mse: 1.1368\n",
            "Epoch 110/300\n",
            "1/1 [==============================] - 0s 5ms/step - loss: 1.1362 - mse: 1.1362\n",
            "Epoch 111/300\n",
            "1/1 [==============================] - 0s 11ms/step - loss: 1.1356 - mse: 1.1356\n",
            "Epoch 112/300\n",
            "1/1 [==============================] - 0s 5ms/step - loss: 1.1349 - mse: 1.1349\n",
            "Epoch 113/300\n",
            "1/1 [==============================] - 0s 5ms/step - loss: 1.1343 - mse: 1.1343\n",
            "Epoch 114/300\n",
            "1/1 [==============================] - 0s 6ms/step - loss: 1.1337 - mse: 1.1337\n",
            "Epoch 115/300\n",
            "1/1 [==============================] - 0s 6ms/step - loss: 1.1331 - mse: 1.1331\n",
            "Epoch 116/300\n",
            "1/1 [==============================] - 0s 10ms/step - loss: 1.1325 - mse: 1.1325\n",
            "Epoch 117/300\n",
            "1/1 [==============================] - 0s 7ms/step - loss: 1.1319 - mse: 1.1319\n",
            "Epoch 118/300\n",
            "1/1 [==============================] - 0s 5ms/step - loss: 1.1313 - mse: 1.1313\n",
            "Epoch 119/300\n",
            "1/1 [==============================] - 0s 5ms/step - loss: 1.1307 - mse: 1.1307\n",
            "Epoch 120/300\n",
            "1/1 [==============================] - 0s 5ms/step - loss: 1.1302 - mse: 1.1302\n",
            "Epoch 121/300\n",
            "1/1 [==============================] - 0s 6ms/step - loss: 1.1296 - mse: 1.1296\n",
            "Epoch 122/300\n",
            "1/1 [==============================] - 0s 6ms/step - loss: 1.1290 - mse: 1.1290\n",
            "Epoch 123/300\n",
            "1/1 [==============================] - 0s 8ms/step - loss: 1.1284 - mse: 1.1284\n",
            "Epoch 124/300\n",
            "1/1 [==============================] - 0s 5ms/step - loss: 1.1279 - mse: 1.1279\n",
            "Epoch 125/300\n",
            "1/1 [==============================] - 0s 5ms/step - loss: 1.1273 - mse: 1.1273\n",
            "Epoch 126/300\n",
            "1/1 [==============================] - 0s 5ms/step - loss: 1.1268 - mse: 1.1268\n",
            "Epoch 127/300\n",
            "1/1 [==============================] - 0s 5ms/step - loss: 1.1262 - mse: 1.1262\n",
            "Epoch 128/300\n",
            "1/1 [==============================] - 0s 6ms/step - loss: 1.1257 - mse: 1.1257\n",
            "Epoch 129/300\n",
            "1/1 [==============================] - 0s 5ms/step - loss: 1.1251 - mse: 1.1251\n",
            "Epoch 130/300\n",
            "1/1 [==============================] - 0s 6ms/step - loss: 1.1246 - mse: 1.1246\n",
            "Epoch 131/300\n",
            "1/1 [==============================] - 0s 10ms/step - loss: 1.1241 - mse: 1.1241\n",
            "Epoch 132/300\n",
            "1/1 [==============================] - 0s 6ms/step - loss: 1.1235 - mse: 1.1235\n",
            "Epoch 133/300\n",
            "1/1 [==============================] - 0s 5ms/step - loss: 1.1230 - mse: 1.1230\n",
            "Epoch 134/300\n",
            "1/1 [==============================] - 0s 5ms/step - loss: 1.1225 - mse: 1.1225\n",
            "Epoch 135/300\n",
            "1/1 [==============================] - 0s 5ms/step - loss: 1.1220 - mse: 1.1220\n",
            "Epoch 136/300\n",
            "1/1 [==============================] - 0s 6ms/step - loss: 1.1215 - mse: 1.1215\n",
            "Epoch 137/300\n",
            "1/1 [==============================] - 0s 11ms/step - loss: 1.1210 - mse: 1.1210\n",
            "Epoch 138/300\n",
            "1/1 [==============================] - 0s 6ms/step - loss: 1.1205 - mse: 1.1205\n",
            "Epoch 139/300\n",
            "1/1 [==============================] - 0s 5ms/step - loss: 1.1200 - mse: 1.1200\n",
            "Epoch 140/300\n",
            "1/1 [==============================] - 0s 9ms/step - loss: 1.1195 - mse: 1.1195\n",
            "Epoch 141/300\n",
            "1/1 [==============================] - 0s 7ms/step - loss: 1.1190 - mse: 1.1190\n",
            "Epoch 142/300\n",
            "1/1 [==============================] - 0s 5ms/step - loss: 1.1185 - mse: 1.1185\n",
            "Epoch 143/300\n",
            "1/1 [==============================] - 0s 5ms/step - loss: 1.1180 - mse: 1.1180\n",
            "Epoch 144/300\n",
            "1/1 [==============================] - 0s 5ms/step - loss: 1.1176 - mse: 1.1176\n",
            "Epoch 145/300\n",
            "1/1 [==============================] - 0s 6ms/step - loss: 1.1171 - mse: 1.1171\n",
            "Epoch 146/300\n",
            "1/1 [==============================] - 0s 8ms/step - loss: 1.1166 - mse: 1.1166\n",
            "Epoch 147/300\n",
            "1/1 [==============================] - 0s 6ms/step - loss: 1.1162 - mse: 1.1162\n",
            "Epoch 148/300\n",
            "1/1 [==============================] - 0s 6ms/step - loss: 1.1157 - mse: 1.1157\n",
            "Epoch 149/300\n",
            "1/1 [==============================] - 0s 5ms/step - loss: 1.1152 - mse: 1.1152\n",
            "Epoch 150/300\n",
            "1/1 [==============================] - 0s 5ms/step - loss: 1.1148 - mse: 1.1148\n",
            "Epoch 151/300\n",
            "1/1 [==============================] - 0s 6ms/step - loss: 1.1143 - mse: 1.1143\n",
            "Epoch 152/300\n",
            "1/1 [==============================] - 0s 5ms/step - loss: 1.1139 - mse: 1.1139\n",
            "Epoch 153/300\n",
            "1/1 [==============================] - 0s 6ms/step - loss: 1.1134 - mse: 1.1134\n",
            "Epoch 154/300\n",
            "1/1 [==============================] - 0s 5ms/step - loss: 1.1130 - mse: 1.1130\n",
            "Epoch 155/300\n",
            "1/1 [==============================] - 0s 7ms/step - loss: 1.1126 - mse: 1.1126\n",
            "Epoch 156/300\n",
            "1/1 [==============================] - 0s 5ms/step - loss: 1.1121 - mse: 1.1121\n",
            "Epoch 157/300\n",
            "1/1 [==============================] - 0s 5ms/step - loss: 1.1117 - mse: 1.1117\n",
            "Epoch 158/300\n",
            "1/1 [==============================] - 0s 5ms/step - loss: 1.1113 - mse: 1.1113\n",
            "Epoch 159/300\n",
            "1/1 [==============================] - 0s 5ms/step - loss: 1.1109 - mse: 1.1109\n",
            "Epoch 160/300\n",
            "1/1 [==============================] - 0s 5ms/step - loss: 1.1104 - mse: 1.1104\n",
            "Epoch 161/300\n",
            "1/1 [==============================] - 0s 5ms/step - loss: 1.1100 - mse: 1.1100\n",
            "Epoch 162/300\n",
            "1/1 [==============================] - 0s 5ms/step - loss: 1.1096 - mse: 1.1096\n",
            "Epoch 163/300\n",
            "1/1 [==============================] - 0s 5ms/step - loss: 1.1092 - mse: 1.1092\n",
            "Epoch 164/300\n",
            "1/1 [==============================] - 0s 6ms/step - loss: 1.1088 - mse: 1.1088\n",
            "Epoch 165/300\n",
            "1/1 [==============================] - 0s 5ms/step - loss: 1.1084 - mse: 1.1084\n",
            "Epoch 166/300\n",
            "1/1 [==============================] - 0s 5ms/step - loss: 1.1080 - mse: 1.1080\n",
            "Epoch 167/300\n",
            "1/1 [==============================] - 0s 6ms/step - loss: 1.1076 - mse: 1.1076\n",
            "Epoch 168/300\n",
            "1/1 [==============================] - 0s 6ms/step - loss: 1.1072 - mse: 1.1072\n",
            "Epoch 169/300\n",
            "1/1 [==============================] - 0s 6ms/step - loss: 1.1068 - mse: 1.1068\n",
            "Epoch 170/300\n",
            "1/1 [==============================] - 0s 20ms/step - loss: 1.1064 - mse: 1.1064\n",
            "Epoch 171/300\n",
            "1/1 [==============================] - 0s 9ms/step - loss: 1.1061 - mse: 1.1061\n",
            "Epoch 172/300\n",
            "1/1 [==============================] - 0s 10ms/step - loss: 1.1057 - mse: 1.1057\n",
            "Epoch 173/300\n",
            "1/1 [==============================] - 0s 6ms/step - loss: 1.1053 - mse: 1.1053\n",
            "Epoch 174/300\n",
            "1/1 [==============================] - 0s 5ms/step - loss: 1.1049 - mse: 1.1049\n",
            "Epoch 175/300\n",
            "1/1 [==============================] - 0s 6ms/step - loss: 1.1046 - mse: 1.1046\n",
            "Epoch 176/300\n",
            "1/1 [==============================] - 0s 6ms/step - loss: 1.1042 - mse: 1.1042\n",
            "Epoch 177/300\n",
            "1/1 [==============================] - 0s 6ms/step - loss: 1.1038 - mse: 1.1038\n",
            "Epoch 178/300\n",
            "1/1 [==============================] - 0s 7ms/step - loss: 1.1035 - mse: 1.1035\n",
            "Epoch 179/300\n",
            "1/1 [==============================] - 0s 7ms/step - loss: 1.1031 - mse: 1.1031\n",
            "Epoch 180/300\n",
            "1/1 [==============================] - 0s 5ms/step - loss: 1.1028 - mse: 1.1028\n",
            "Epoch 181/300\n",
            "1/1 [==============================] - 0s 9ms/step - loss: 1.1024 - mse: 1.1024\n",
            "Epoch 182/300\n",
            "1/1 [==============================] - 0s 10ms/step - loss: 1.1021 - mse: 1.1021\n",
            "Epoch 183/300\n",
            "1/1 [==============================] - 0s 6ms/step - loss: 1.1017 - mse: 1.1017\n",
            "Epoch 184/300\n",
            "1/1 [==============================] - 0s 6ms/step - loss: 1.1014 - mse: 1.1014\n",
            "Epoch 185/300\n",
            "1/1 [==============================] - 0s 13ms/step - loss: 1.1010 - mse: 1.1010\n",
            "Epoch 186/300\n",
            "1/1 [==============================] - 0s 5ms/step - loss: 1.1007 - mse: 1.1007\n",
            "Epoch 187/300\n",
            "1/1 [==============================] - 0s 5ms/step - loss: 1.1004 - mse: 1.1004\n",
            "Epoch 188/300\n",
            "1/1 [==============================] - 0s 6ms/step - loss: 1.1000 - mse: 1.1000\n",
            "Epoch 189/300\n",
            "1/1 [==============================] - 0s 6ms/step - loss: 1.0997 - mse: 1.0997\n",
            "Epoch 190/300\n",
            "1/1 [==============================] - 0s 8ms/step - loss: 1.0994 - mse: 1.0994\n",
            "Epoch 191/300\n",
            "1/1 [==============================] - 0s 8ms/step - loss: 1.0991 - mse: 1.0991\n",
            "Epoch 192/300\n",
            "1/1 [==============================] - 0s 5ms/step - loss: 1.0987 - mse: 1.0987\n",
            "Epoch 193/300\n",
            "1/1 [==============================] - 0s 6ms/step - loss: 1.0984 - mse: 1.0984\n",
            "Epoch 194/300\n",
            "1/1 [==============================] - 0s 5ms/step - loss: 1.0981 - mse: 1.0981\n",
            "Epoch 195/300\n",
            "1/1 [==============================] - 0s 5ms/step - loss: 1.0978 - mse: 1.0978\n",
            "Epoch 196/300\n",
            "1/1 [==============================] - 0s 5ms/step - loss: 1.0975 - mse: 1.0975\n",
            "Epoch 197/300\n",
            "1/1 [==============================] - 0s 8ms/step - loss: 1.0972 - mse: 1.0972\n",
            "Epoch 198/300\n",
            "1/1 [==============================] - 0s 6ms/step - loss: 1.0969 - mse: 1.0969\n",
            "Epoch 199/300\n",
            "1/1 [==============================] - 0s 6ms/step - loss: 1.0966 - mse: 1.0966\n",
            "Epoch 200/300\n",
            "1/1 [==============================] - 0s 6ms/step - loss: 1.0963 - mse: 1.0963\n",
            "Epoch 201/300\n",
            "1/1 [==============================] - 0s 5ms/step - loss: 1.0960 - mse: 1.0960\n",
            "Epoch 202/300\n",
            "1/1 [==============================] - 0s 5ms/step - loss: 1.0957 - mse: 1.0957\n",
            "Epoch 203/300\n",
            "1/1 [==============================] - 0s 6ms/step - loss: 1.0954 - mse: 1.0954\n",
            "Epoch 204/300\n",
            "1/1 [==============================] - 0s 9ms/step - loss: 1.0951 - mse: 1.0951\n",
            "Epoch 205/300\n",
            "1/1 [==============================] - 0s 6ms/step - loss: 1.0948 - mse: 1.0948\n",
            "Epoch 206/300\n",
            "1/1 [==============================] - 0s 5ms/step - loss: 1.0945 - mse: 1.0945\n",
            "Epoch 207/300\n",
            "1/1 [==============================] - 0s 6ms/step - loss: 1.0942 - mse: 1.0942\n",
            "Epoch 208/300\n",
            "1/1 [==============================] - 0s 5ms/step - loss: 1.0939 - mse: 1.0939\n",
            "Epoch 209/300\n",
            "1/1 [==============================] - 0s 6ms/step - loss: 1.0937 - mse: 1.0937\n",
            "Epoch 210/300\n",
            "1/1 [==============================] - 0s 6ms/step - loss: 1.0934 - mse: 1.0934\n",
            "Epoch 211/300\n",
            "1/1 [==============================] - 0s 5ms/step - loss: 1.0931 - mse: 1.0931\n",
            "Epoch 212/300\n",
            "1/1 [==============================] - 0s 5ms/step - loss: 1.0928 - mse: 1.0928\n",
            "Epoch 213/300\n",
            "1/1 [==============================] - 0s 5ms/step - loss: 1.0926 - mse: 1.0926\n",
            "Epoch 214/300\n",
            "1/1 [==============================] - 0s 7ms/step - loss: 1.0923 - mse: 1.0923\n",
            "Epoch 215/300\n",
            "1/1 [==============================] - 0s 6ms/step - loss: 1.0920 - mse: 1.0920\n",
            "Epoch 216/300\n",
            "1/1 [==============================] - 0s 5ms/step - loss: 1.0918 - mse: 1.0918\n",
            "Epoch 217/300\n",
            "1/1 [==============================] - 0s 15ms/step - loss: 1.0915 - mse: 1.0915\n",
            "Epoch 218/300\n",
            "1/1 [==============================] - 0s 6ms/step - loss: 1.0912 - mse: 1.0912\n",
            "Epoch 219/300\n",
            "1/1 [==============================] - 0s 5ms/step - loss: 1.0910 - mse: 1.0910\n",
            "Epoch 220/300\n",
            "1/1 [==============================] - 0s 10ms/step - loss: 1.0907 - mse: 1.0907\n",
            "Epoch 221/300\n",
            "1/1 [==============================] - 0s 5ms/step - loss: 1.0905 - mse: 1.0905\n",
            "Epoch 222/300\n",
            "1/1 [==============================] - 0s 8ms/step - loss: 1.0902 - mse: 1.0902\n",
            "Epoch 223/300\n",
            "1/1 [==============================] - 0s 5ms/step - loss: 1.0900 - mse: 1.0900\n",
            "Epoch 224/300\n",
            "1/1 [==============================] - 0s 5ms/step - loss: 1.0897 - mse: 1.0897\n",
            "Epoch 225/300\n",
            "1/1 [==============================] - 0s 5ms/step - loss: 1.0895 - mse: 1.0895\n",
            "Epoch 226/300\n",
            "1/1 [==============================] - 0s 6ms/step - loss: 1.0892 - mse: 1.0892\n",
            "Epoch 227/300\n",
            "1/1 [==============================] - 0s 5ms/step - loss: 1.0890 - mse: 1.0890\n",
            "Epoch 228/300\n",
            "1/1 [==============================] - 0s 4ms/step - loss: 1.0888 - mse: 1.0888\n",
            "Epoch 229/300\n",
            "1/1 [==============================] - 0s 8ms/step - loss: 1.0885 - mse: 1.0885\n",
            "Epoch 230/300\n",
            "1/1 [==============================] - 0s 5ms/step - loss: 1.0883 - mse: 1.0883\n",
            "Epoch 231/300\n",
            "1/1 [==============================] - 0s 6ms/step - loss: 1.0881 - mse: 1.0881\n",
            "Epoch 232/300\n",
            "1/1 [==============================] - 0s 9ms/step - loss: 1.0878 - mse: 1.0878\n",
            "Epoch 233/300\n",
            "1/1 [==============================] - 0s 7ms/step - loss: 1.0876 - mse: 1.0876\n",
            "Epoch 234/300\n",
            "1/1 [==============================] - 0s 5ms/step - loss: 1.0874 - mse: 1.0874\n",
            "Epoch 235/300\n",
            "1/1 [==============================] - 0s 5ms/step - loss: 1.0871 - mse: 1.0871\n",
            "Epoch 236/300\n",
            "1/1 [==============================] - 0s 5ms/step - loss: 1.0869 - mse: 1.0869\n",
            "Epoch 237/300\n",
            "1/1 [==============================] - 0s 6ms/step - loss: 1.0867 - mse: 1.0867\n",
            "Epoch 238/300\n",
            "1/1 [==============================] - 0s 6ms/step - loss: 1.0865 - mse: 1.0865\n",
            "Epoch 239/300\n",
            "1/1 [==============================] - 0s 18ms/step - loss: 1.0863 - mse: 1.0863\n",
            "Epoch 240/300\n",
            "1/1 [==============================] - 0s 8ms/step - loss: 1.0861 - mse: 1.0861\n",
            "Epoch 241/300\n",
            "1/1 [==============================] - 0s 6ms/step - loss: 1.0858 - mse: 1.0858\n",
            "Epoch 242/300\n",
            "1/1 [==============================] - 0s 6ms/step - loss: 1.0856 - mse: 1.0856\n",
            "Epoch 243/300\n",
            "1/1 [==============================] - 0s 6ms/step - loss: 1.0854 - mse: 1.0854\n",
            "Epoch 244/300\n",
            "1/1 [==============================] - 0s 5ms/step - loss: 1.0852 - mse: 1.0852\n",
            "Epoch 245/300\n",
            "1/1 [==============================] - 0s 5ms/step - loss: 1.0850 - mse: 1.0850\n",
            "Epoch 246/300\n",
            "1/1 [==============================] - 0s 7ms/step - loss: 1.0848 - mse: 1.0848\n",
            "Epoch 247/300\n",
            "1/1 [==============================] - 0s 9ms/step - loss: 1.0846 - mse: 1.0846\n",
            "Epoch 248/300\n",
            "1/1 [==============================] - 0s 8ms/step - loss: 1.0844 - mse: 1.0844\n",
            "Epoch 249/300\n",
            "1/1 [==============================] - 0s 5ms/step - loss: 1.0842 - mse: 1.0842\n",
            "Epoch 250/300\n",
            "1/1 [==============================] - 0s 8ms/step - loss: 1.0840 - mse: 1.0840\n",
            "Epoch 251/300\n",
            "1/1 [==============================] - 0s 5ms/step - loss: 1.0838 - mse: 1.0838\n",
            "Epoch 252/300\n",
            "1/1 [==============================] - 0s 5ms/step - loss: 1.0836 - mse: 1.0836\n",
            "Epoch 253/300\n",
            "1/1 [==============================] - 0s 9ms/step - loss: 1.0834 - mse: 1.0834\n",
            "Epoch 254/300\n",
            "1/1 [==============================] - 0s 6ms/step - loss: 1.0832 - mse: 1.0832\n",
            "Epoch 255/300\n",
            "1/1 [==============================] - 0s 12ms/step - loss: 1.0830 - mse: 1.0830\n",
            "Epoch 256/300\n",
            "1/1 [==============================] - 0s 6ms/step - loss: 1.0828 - mse: 1.0828\n",
            "Epoch 257/300\n",
            "1/1 [==============================] - 0s 5ms/step - loss: 1.0826 - mse: 1.0826\n",
            "Epoch 258/300\n",
            "1/1 [==============================] - 0s 7ms/step - loss: 1.0824 - mse: 1.0824\n",
            "Epoch 259/300\n",
            "1/1 [==============================] - 0s 6ms/step - loss: 1.0823 - mse: 1.0823\n",
            "Epoch 260/300\n",
            "1/1 [==============================] - 0s 8ms/step - loss: 1.0821 - mse: 1.0821\n",
            "Epoch 261/300\n",
            "1/1 [==============================] - 0s 8ms/step - loss: 1.0819 - mse: 1.0819\n",
            "Epoch 262/300\n",
            "1/1 [==============================] - 0s 10ms/step - loss: 1.0817 - mse: 1.0817\n",
            "Epoch 263/300\n",
            "1/1 [==============================] - 0s 6ms/step - loss: 1.0815 - mse: 1.0815\n",
            "Epoch 264/300\n",
            "1/1 [==============================] - 0s 5ms/step - loss: 1.0814 - mse: 1.0814\n",
            "Epoch 265/300\n",
            "1/1 [==============================] - 0s 5ms/step - loss: 1.0812 - mse: 1.0812\n",
            "Epoch 266/300\n",
            "1/1 [==============================] - 0s 9ms/step - loss: 1.0810 - mse: 1.0810\n",
            "Epoch 267/300\n",
            "1/1 [==============================] - 0s 5ms/step - loss: 1.0808 - mse: 1.0808\n",
            "Epoch 268/300\n",
            "1/1 [==============================] - 0s 7ms/step - loss: 1.0807 - mse: 1.0807\n",
            "Epoch 269/300\n",
            "1/1 [==============================] - 0s 6ms/step - loss: 1.0805 - mse: 1.0805\n",
            "Epoch 270/300\n",
            "1/1 [==============================] - 0s 10ms/step - loss: 1.0803 - mse: 1.0803\n",
            "Epoch 271/300\n",
            "1/1 [==============================] - 0s 7ms/step - loss: 1.0802 - mse: 1.0802\n",
            "Epoch 272/300\n",
            "1/1 [==============================] - 0s 6ms/step - loss: 1.0800 - mse: 1.0800\n",
            "Epoch 273/300\n",
            "1/1 [==============================] - 0s 5ms/step - loss: 1.0798 - mse: 1.0798\n",
            "Epoch 274/300\n",
            "1/1 [==============================] - 0s 7ms/step - loss: 1.0797 - mse: 1.0797\n",
            "Epoch 275/300\n",
            "1/1 [==============================] - 0s 6ms/step - loss: 1.0795 - mse: 1.0795\n",
            "Epoch 276/300\n",
            "1/1 [==============================] - 0s 6ms/step - loss: 1.0793 - mse: 1.0793\n",
            "Epoch 277/300\n",
            "1/1 [==============================] - 0s 9ms/step - loss: 1.0792 - mse: 1.0792\n",
            "Epoch 278/300\n",
            "1/1 [==============================] - 0s 5ms/step - loss: 1.0790 - mse: 1.0790\n",
            "Epoch 279/300\n",
            "1/1 [==============================] - 0s 6ms/step - loss: 1.0789 - mse: 1.0789\n",
            "Epoch 280/300\n",
            "1/1 [==============================] - 0s 12ms/step - loss: 1.0787 - mse: 1.0787\n",
            "Epoch 281/300\n",
            "1/1 [==============================] - 0s 12ms/step - loss: 1.0786 - mse: 1.0786\n",
            "Epoch 282/300\n",
            "1/1 [==============================] - 0s 5ms/step - loss: 1.0784 - mse: 1.0784\n",
            "Epoch 283/300\n",
            "1/1 [==============================] - 0s 5ms/step - loss: 1.0782 - mse: 1.0782\n",
            "Epoch 284/300\n",
            "1/1 [==============================] - 0s 6ms/step - loss: 1.0781 - mse: 1.0781\n",
            "Epoch 285/300\n",
            "1/1 [==============================] - 0s 5ms/step - loss: 1.0779 - mse: 1.0779\n",
            "Epoch 286/300\n",
            "1/1 [==============================] - 0s 6ms/step - loss: 1.0778 - mse: 1.0778\n",
            "Epoch 287/300\n",
            "1/1 [==============================] - 0s 9ms/step - loss: 1.0777 - mse: 1.0777\n",
            "Epoch 288/300\n",
            "1/1 [==============================] - 0s 6ms/step - loss: 1.0775 - mse: 1.0775\n",
            "Epoch 289/300\n",
            "1/1 [==============================] - 0s 5ms/step - loss: 1.0774 - mse: 1.0774\n",
            "Epoch 290/300\n",
            "1/1 [==============================] - 0s 6ms/step - loss: 1.0772 - mse: 1.0772\n",
            "Epoch 291/300\n",
            "1/1 [==============================] - 0s 5ms/step - loss: 1.0771 - mse: 1.0771\n",
            "Epoch 292/300\n",
            "1/1 [==============================] - 0s 6ms/step - loss: 1.0769 - mse: 1.0769\n",
            "Epoch 293/300\n",
            "1/1 [==============================] - 0s 7ms/step - loss: 1.0768 - mse: 1.0768\n",
            "Epoch 294/300\n",
            "1/1 [==============================] - 0s 5ms/step - loss: 1.0767 - mse: 1.0767\n",
            "Epoch 295/300\n",
            "1/1 [==============================] - 0s 5ms/step - loss: 1.0765 - mse: 1.0765\n",
            "Epoch 296/300\n",
            "1/1 [==============================] - 0s 11ms/step - loss: 1.0764 - mse: 1.0764\n",
            "Epoch 297/300\n",
            "1/1 [==============================] - 0s 6ms/step - loss: 1.0763 - mse: 1.0763\n",
            "Epoch 298/300\n",
            "1/1 [==============================] - 0s 5ms/step - loss: 1.0761 - mse: 1.0761\n",
            "Epoch 299/300\n",
            "1/1 [==============================] - 0s 10ms/step - loss: 1.0760 - mse: 1.0760\n",
            "Epoch 300/300\n",
            "1/1 [==============================] - 0s 15ms/step - loss: 1.0759 - mse: 1.0759\n"
          ]
        },
        {
          "output_type": "execute_result",
          "data": {
            "text/plain": [
              "<keras.callbacks.History at 0x7fad50690e10>"
            ]
          },
          "metadata": {},
          "execution_count": 12
        }
      ]
    },
    {
      "cell_type": "code",
      "metadata": {
        "id": "U-k31dqbrTIO",
        "colab": {
          "base_uri": "https://localhost:8080/"
        },
        "outputId": "38de5316-8506-41ae-a058-f3393be723e0"
      },
      "source": [
        "linear_model.get_config()"
      ],
      "execution_count": 13,
      "outputs": [
        {
          "output_type": "execute_result",
          "data": {
            "text/plain": [
              "{'input_layers': [['input_3', 0, 0]],\n",
              " 'layers': [{'class_name': 'InputLayer',\n",
              "   'config': {'batch_input_shape': (None, 1),\n",
              "    'dtype': 'float32',\n",
              "    'name': 'input_3',\n",
              "    'ragged': False,\n",
              "    'sparse': False},\n",
              "   'inbound_nodes': [],\n",
              "   'name': 'input_3'},\n",
              "  {'class_name': 'Dense',\n",
              "   'config': {'activation': 'linear',\n",
              "    'activity_regularizer': None,\n",
              "    'bias_constraint': None,\n",
              "    'bias_initializer': {'class_name': 'Zeros', 'config': {}},\n",
              "    'bias_regularizer': None,\n",
              "    'dtype': 'float32',\n",
              "    'kernel_constraint': None,\n",
              "    'kernel_initializer': {'class_name': 'GlorotUniform',\n",
              "     'config': {'seed': None}},\n",
              "    'kernel_regularizer': None,\n",
              "    'name': 'dense_9',\n",
              "    'trainable': True,\n",
              "    'units': 1,\n",
              "    'use_bias': True},\n",
              "   'inbound_nodes': [[['input_3', 0, 0, {}]]],\n",
              "   'name': 'dense_9'}],\n",
              " 'name': 'model_2',\n",
              " 'output_layers': [['dense_9', 0, 0]]}"
            ]
          },
          "metadata": {},
          "execution_count": 13
        }
      ]
    },
    {
      "cell_type": "code",
      "metadata": {
        "id": "JI0SNxAmGTLS",
        "colab": {
          "base_uri": "https://localhost:8080/"
        },
        "outputId": "bf15eece-ed62-42c9-adee-6ed404c610a7"
      },
      "source": [
        "linear_model.predict([11,15])"
      ],
      "execution_count": 14,
      "outputs": [
        {
          "output_type": "execute_result",
          "data": {
            "text/plain": [
              "array([[118.11701],\n",
              "       [160.67598]], dtype=float32)"
            ]
          },
          "metadata": {},
          "execution_count": 14
        }
      ]
    },
    {
      "cell_type": "code",
      "metadata": {
        "id": "UKjDK9vluj9T",
        "colab": {
          "base_uri": "https://localhost:8080/"
        },
        "outputId": "3cae7c99-75ca-4c29-9e91-c0446525006a"
      },
      "source": [
        "X"
      ],
      "execution_count": 15,
      "outputs": [
        {
          "output_type": "execute_result",
          "data": {
            "text/plain": [
              "[1, 2, 3, 4, 5, 6, 7, 8, 9]"
            ]
          },
          "metadata": {},
          "execution_count": 15
        }
      ]
    },
    {
      "cell_type": "code",
      "metadata": {
        "id": "XTRhSt8UuFSD",
        "colab": {
          "base_uri": "https://localhost:8080/"
        },
        "outputId": "380f7b69-5df3-4b1b-ba76-e977b9362bbe"
      },
      "source": [
        "linear_model.predict(X)"
      ],
      "execution_count": 16,
      "outputs": [
        {
          "output_type": "execute_result",
          "data": {
            "text/plain": [
              "array([[11.719582],\n",
              "       [22.359324],\n",
              "       [32.999065],\n",
              "       [43.63881 ],\n",
              "       [54.278553],\n",
              "       [64.9183  ],\n",
              "       [75.558044],\n",
              "       [86.197784],\n",
              "       [96.837524]], dtype=float32)"
            ]
          },
          "metadata": {},
          "execution_count": 16
        }
      ]
    },
    {
      "cell_type": "code",
      "metadata": {
        "id": "TnH-qxlDtLej"
      },
      "source": [
        "import matplotlib.pyplot as plt"
      ],
      "execution_count": 17,
      "outputs": []
    },
    {
      "cell_type": "code",
      "metadata": {
        "id": "5G-0TsZItDzO",
        "colab": {
          "base_uri": "https://localhost:8080/",
          "height": 267
        },
        "outputId": "f1d08597-d566-4390-cdd3-e7b128392be8"
      },
      "source": [
        "plt.plot(X, linear_model.predict(X), 'b', X, y, 'k.')\n",
        "plt.show()"
      ],
      "execution_count": 18,
      "outputs": [
        {
          "output_type": "display_data",
          "data": {
            "image/png": "[encoded data removed]",
            "text/plain": [
              "<Figure size 432x288 with 1 Axes>"
            ]
          },
          "metadata": {
            "needs_background": "light"
          }
        }
      ]
    },
    {
      "cell_type": "markdown",
      "metadata": {
        "id": "6w69xEAThwUk"
      },
      "source": [
        "## 2-3. Logisitic Regression"
      ]
    },
    {
      "cell_type": "code",
      "metadata": {
        "id": "EEtnlKmMhqgY",
        "colab": {
          "base_uri": "https://localhost:8080/"
        },
        "outputId": "8c0e2fb8-2495-4245-cc42-a9a4642596a5"
      },
      "source": [
        "from tensorflow.keras.layers import Input, Dense\n",
        "from tensorflow.keras.models import Model\n",
        "\n",
        "inputs = Input(shape=(3,))\n",
        "output = Dense(1, activation='sigmoid')(inputs)\n",
        "logistic_model = Model(inputs, output)\n",
        "logistic_model.summary()"
      ],
      "execution_count": 19,
      "outputs": [
        {
          "output_type": "stream",
          "name": "stdout",
          "text": [
            "Model: \"model_3\"\n",
            "_________________________________________________________________\n",
            " Layer (type)                Output Shape              Param #   \n",
            "=================================================================\n",
            " input_4 (InputLayer)        [(None, 3)]               0         \n",
            "                                                                 \n",
            " dense_10 (Dense)            (None, 1)                 4         \n",
            "                                                                 \n",
            "=================================================================\n",
            "Total params: 4\n",
            "Trainable params: 4\n",
            "Non-trainable params: 0\n",
            "_________________________________________________________________\n"
          ]
        }
      ]
    },
    {
      "cell_type": "markdown",
      "metadata": {
        "id": "IBPe6iUth1vi"
      },
      "source": [
        "## 2-4. model that accepts multiple inputs\n"
      ]
    },
    {
      "cell_type": "code",
      "metadata": {
        "id": "TEhnaVoAh0GI",
        "colab": {
          "base_uri": "https://localhost:8080/"
        },
        "outputId": "2bbae856-e312-4398-835d-c2ebd2716eee"
      },
      "source": [
        "from tensorflow.keras.layers import Input, Dense, concatenate\n",
        "from tensorflow.keras.models import Model\n",
        "\n",
        "# 두 개의 입력층을 정의\n",
        "inputA = Input(shape=(64,))\n",
        "inputB = Input(shape=(128,))\n",
        "\n",
        "# 첫번째 입력층으로부터 분기되어 진행되는 인공 신경망을 정의\n",
        "x = Dense(16, activation=\"relu\")(inputA)\n",
        "x = Dense(8, activation=\"relu\")(x)\n",
        "x = Model(inputs=inputA, outputs=x)\n",
        "\n",
        "# 두번째 입력층으로부터 분기되어 진행되는 인공 신경망을 정의\n",
        "y = Dense(64, activation=\"relu\")(inputB)\n",
        "y = Dense(32, activation=\"relu\")(y)\n",
        "y = Dense(8, activation=\"relu\")(y)\n",
        "y = Model(inputs=inputB, outputs=y)\n",
        "\n",
        "# 두개의 인공 신경망의 출력을 연결(concatenate)\n",
        "result = concatenate([x.output, y.output])\n",
        "\n",
        "z = Dense(2, activation=\"relu\")(result)\n",
        "z = Dense(1, activation=\"linear\")(z)\n",
        "\n",
        "multi_model = Model(inputs=[x.input, y.input], outputs=z)\n",
        "multi_model.summary()"
      ],
      "execution_count": 20,
      "outputs": [
        {
          "output_type": "stream",
          "name": "stdout",
          "text": [
            "Model: \"model_6\"\n",
            "__________________________________________________________________________________________________\n",
            " Layer (type)                   Output Shape         Param #     Connected to                     \n",
            "==================================================================================================\n",
            " input_6 (InputLayer)           [(None, 128)]        0           []                               \n",
            "                                                                                                  \n",
            " input_5 (InputLayer)           [(None, 64)]         0           []                               \n",
            "                                                                                                  \n",
            " dense_13 (Dense)               (None, 64)           8256        ['input_6[0][0]']                \n",
            "                                                                                                  \n",
            " dense_11 (Dense)               (None, 16)           1040        ['input_5[0][0]']                \n",
            "                                                                                                  \n",
            " dense_14 (Dense)               (None, 32)           2080        ['dense_13[0][0]']               \n",
            "                                                                                                  \n",
            " dense_12 (Dense)               (None, 8)            136         ['dense_11[0][0]']               \n",
            "                                                                                                  \n",
            " dense_15 (Dense)               (None, 8)            264         ['dense_14[0][0]']               \n",
            "                                                                                                  \n",
            " concatenate (Concatenate)      (None, 16)           0           ['dense_12[0][0]',               \n",
            "                                                                  'dense_15[0][0]']               \n",
            "                                                                                                  \n",
            " dense_16 (Dense)               (None, 2)            34          ['concatenate[0][0]']            \n",
            "                                                                                                  \n",
            " dense_17 (Dense)               (None, 1)            3           ['dense_16[0][0]']               \n",
            "                                                                                                  \n",
            "==================================================================================================\n",
            "Total params: 11,813\n",
            "Trainable params: 11,813\n",
            "Non-trainable params: 0\n",
            "__________________________________________________________________________________________________\n"
          ]
        }
      ]
    },
    {
      "cell_type": "code",
      "metadata": {
        "id": "motoX6C-Ms3H",
        "colab": {
          "base_uri": "https://localhost:8080/",
          "height": 754
        },
        "outputId": "f5cef161-af5c-44d7-cda6-b7410fa3771a"
      },
      "source": [
        "#  Plot model\n",
        "plot_model(multi_model , show_shapes=True, show_layer_names=True, to_file='model_M.png')"
      ],
      "execution_count": 23,
      "outputs": [
        {
          "output_type": "execute_result",
          "data": {
            "image/png": "[encoded data removed]",
            "text/plain": [
              "<IPython.core.display.Image object>"
            ]
          },
          "metadata": {},
          "execution_count": 23
        }
      ]
    },
    {
      "cell_type": "markdown",
      "metadata": {
        "id": "uIzhaMfjiAPa"
      },
      "source": [
        "## 2-5. LSTM"
      ]
    },
    {
      "cell_type": "code",
      "metadata": {
        "id": "TQPevdlGiBuW",
        "colab": {
          "base_uri": "https://localhost:8080/"
        },
        "outputId": "8c1bbdd0-ffdf-448e-bf58-54024da54488"
      },
      "source": [
        "from tensorflow.keras.layers import Input, Dense, LSTM\n",
        "from tensorflow.keras.models import Model\n",
        "\n",
        "inputs = Input(shape=(50,1))\n",
        "lstm_layer = LSTM(10)(inputs)\n",
        "x = Dense(10, activation='relu')(lstm_layer)\n",
        "output = Dense(1, activation='sigmoid')(x)\n",
        "\n",
        "lstm_model = Model(inputs=inputs, outputs=output)\n",
        "lstm_model.summary()"
      ],
      "execution_count": 27,
      "outputs": [
        {
          "output_type": "stream",
          "name": "stdout",
          "text": [
            "Model: \"model_8\"\n",
            "_________________________________________________________________\n",
            " Layer (type)                Output Shape              Param #   \n",
            "=================================================================\n",
            " input_8 (InputLayer)        [(None, 50, 1)]           0         \n",
            "                                                                 \n",
            " lstm_1 (LSTM)               (None, 10)                480       \n",
            "                                                                 \n",
            " dense_20 (Dense)            (None, 10)                110       \n",
            "                                                                 \n",
            " dense_21 (Dense)            (None, 1)                 11        \n",
            "                                                                 \n",
            "=================================================================\n",
            "Total params: 601\n",
            "Trainable params: 601\n",
            "Non-trainable params: 0\n",
            "_________________________________________________________________\n"
          ]
        }
      ]
    },
    {
      "cell_type": "markdown",
      "metadata": {
        "id": "XdbiBz1WFaR8"
      },
      "source": [
        "## Number of parameters in an lstm layer\n",
        "> 4 * lstm_hidden_state_size * (lstm_inputs_size + bias_variable + lstm_outputs_size) \n",
        "- lstm_hidden_state_size = 10\n",
        "- lstm_inputs_size = 1\n",
        "- bias_variable = 1\n",
        "- lstm_outputs_size = 10\n",
        "\n",
        ">> 4*10(1 + 1 + 100 = 480"
      ]
    },
    {
      "cell_type": "code",
      "metadata": {
        "id": "YfRtCEbzMyLO",
        "colab": {
          "base_uri": "https://localhost:8080/",
          "height": 422
        },
        "outputId": "0d7ec111-a739-4199-cefa-01b56c7506f7"
      },
      "source": [
        "# Plot model\n",
        "plot_model(lstm_model, show_shapes=True, show_layer_names=True, to_file='model_L.png')"
      ],
      "execution_count": 28,
      "outputs": [
        {
          "output_type": "execute_result",
          "data": {
            "image/png": "[encoded data removed]",
            "text/plain": [
              "<IPython.core.display.Image object>"
            ]
          },
          "metadata": {},
          "execution_count": 28
        }
      ]
    }
  ]
}