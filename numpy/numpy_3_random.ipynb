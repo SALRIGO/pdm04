{
  "nbformat": 4,
  "nbformat_minor": 0,
  "metadata": {
    "colab": {
      "name": "numpy_3_random.ipynb",
      "provenance": [],
      "collapsed_sections": [],
      "include_colab_link": true
    },
    "kernelspec": {
      "name": "python3",
      "display_name": "Python 3"
    }
  },
  "cells": [
    {
      "cell_type": "markdown",
      "metadata": {
        "id": "view-in-github",
        "colab_type": "text"
      },
      "source": [
        "<a href=\"https://colab.research.google.com/github/SALRIGO/pdm04/blob/main/numpy/numpy_3_random.ipynb\" target=\"_parent\"><img src=\"https://colab.research.google.com/assets/colab-badge.svg\" alt=\"Open In Colab\"/></a>"
      ]
    },
    {
      "cell_type": "markdown",
      "metadata": {
        "id": "_zrirXHfgmyY"
      },
      "source": [
        "# numpy\n",
        "## random 서브모듈\n",
        "> [데이터싸이언스 스쿨:난수발생](https://datascienceschool.net/01%20python/03.05%20%EB%82%9C%EC%88%98%20%EB%B0%9C%EC%83%9D%EA%B3%BC%20%EC%B9%B4%EC%9A%B4%ED%8C%85.html)"
      ]
    },
    {
      "cell_type": "code",
      "metadata": {
        "id": "kQbzzSMZG2PX"
      },
      "source": [
        "import numpy as np"
      ],
      "execution_count": 3,
      "outputs": []
    },
    {
      "cell_type": "markdown",
      "metadata": {
        "id": "1Ry0YHkNFis5"
      },
      "source": [
        "## 난수 생성\n",
        "> NumPy의 random 서브모듈은 난수를 생성하는 다양한 명령을 제공.\n",
        "\n",
        "- rand: 0부터 1사이의 균일 분포 (uniform distribution) : 0~10까지 모든 수가 같은 비율로 나타남\n",
        "- randn: 가우시안 표준 정규 분포 (normal distribution, Gaussian) : 만명에 대해 소득을 조사하면 중간이 가장 많고 저,고소득은 적은데 이런것이 가우시안 분포(평균이0 이고 분산이 1)\n",
        "- randint: 균일 분포의 정수 난수 (uniform int)\n",
        "\n",
        "> randn()은 평균 0, 표준편차 1 인 가우시안 정규분포를 생성."
      ]
    },
    {
      "cell_type": "markdown",
      "metadata": {
        "id": "CtO1VxvurziR"
      },
      "source": [
        "### rand: 0부터 1사이의 균일 분포 (uniform distribution)"
      ]
    },
    {
      "cell_type": "code",
      "metadata": {
        "id": "LA1oF6aEG7kJ",
        "colab": {
          "base_uri": "https://localhost:8080/"
        },
        "outputId": "95cfa727-1c4f-41ac-af35-890503ccc0e5"
      },
      "source": [
        "np.random.rand(5)"
      ],
      "execution_count": null,
      "outputs": [
        {
          "output_type": "execute_result",
          "data": {
            "text/plain": [
              "array([0.37563704, 0.43465233, 0.97436117, 0.6381733 , 0.71258528])"
            ]
          },
          "metadata": {},
          "execution_count": 4
        }
      ]
    },
    {
      "cell_type": "code",
      "metadata": {
        "id": "H6f4ix3NHCyR",
        "colab": {
          "base_uri": "https://localhost:8080/"
        },
        "outputId": "52a9e499-3a08-4a82-d906-bb4ca1e3b18e"
      },
      "source": [
        "np.random.rand(5)"
      ],
      "execution_count": null,
      "outputs": [
        {
          "output_type": "execute_result",
          "data": {
            "text/plain": [
              "array([0.72469732, 0.33699377, 0.15802977, 0.29371892, 0.15633816])"
            ]
          },
          "metadata": {},
          "execution_count": 5
        }
      ]
    },
    {
      "cell_type": "markdown",
      "metadata": {
        "id": "c88F6gf8r4K2"
      },
      "source": [
        "### randn: 가우시안 표준 정규 분포 (normal distribution, Gaussian)"
      ]
    },
    {
      "cell_type": "code",
      "metadata": {
        "id": "rtVfCL-uP2Tw",
        "colab": {
          "base_uri": "https://localhost:8080/"
        },
        "outputId": "a83aa534-d0de-4b9e-9902-7fd31edf5143"
      },
      "source": [
        "np.random.randn(5)  #음수 양수 모두 등장"
      ],
      "execution_count": null,
      "outputs": [
        {
          "output_type": "execute_result",
          "data": {
            "text/plain": [
              "array([ 0.10331787, -0.16244817,  2.34454096,  0.35313689, -1.00386486])"
            ]
          },
          "metadata": {},
          "execution_count": 8
        }
      ]
    },
    {
      "cell_type": "code",
      "metadata": {
        "colab": {
          "base_uri": "https://localhost:8080/"
        },
        "id": "7F1FnWpc1aDv",
        "outputId": "92dcae10-6185-4dd5-a767-80d3e0cf96d5"
      },
      "source": [
        "np.random.randn(5)"
      ],
      "execution_count": null,
      "outputs": [
        {
          "output_type": "execute_result",
          "data": {
            "text/plain": [
              "array([ 1.03248334, -0.16516176,  1.16051563,  1.4128362 , -0.14592825])"
            ]
          },
          "metadata": {},
          "execution_count": 9
        }
      ]
    },
    {
      "cell_type": "markdown",
      "metadata": {
        "id": "wsvTzTFSsBSJ"
      },
      "source": [
        "### randint: 균일 분포의 정수 난수 (uniform int)\n",
        "- numpy.random.randint(low, high=None, size=None, dtype='l')"
      ]
    },
    {
      "cell_type": "code",
      "metadata": {
        "id": "WSvAH8uVs2Vb",
        "colab": {
          "base_uri": "https://localhost:8080/"
        },
        "outputId": "2b737d57-27f2-4a87-c2ea-d95a174b723e"
      },
      "source": [
        "np.random.randint(5)"
      ],
      "execution_count": null,
      "outputs": [
        {
          "output_type": "execute_result",
          "data": {
            "text/plain": [
              "3"
            ]
          },
          "metadata": {},
          "execution_count": 15
        }
      ]
    },
    {
      "cell_type": "code",
      "metadata": {
        "colab": {
          "base_uri": "https://localhost:8080/"
        },
        "id": "oZmQeDkx2CLL",
        "outputId": "d0dafb47-2df9-4b4b-d49f-1179b8099275"
      },
      "source": [
        "# dice number\n",
        "np.random.randint(1,7)"
      ],
      "execution_count": null,
      "outputs": [
        {
          "output_type": "execute_result",
          "data": {
            "text/plain": [
              "5"
            ]
          },
          "metadata": {},
          "execution_count": 31
        }
      ]
    },
    {
      "cell_type": "code",
      "metadata": {
        "id": "McWHW15uQDPr",
        "colab": {
          "base_uri": "https://localhost:8080/"
        },
        "outputId": "de672dcf-a041-4b6f-810b-3dd2d54d2cb0"
      },
      "source": [
        "np.random.randint(5,9) "
      ],
      "execution_count": null,
      "outputs": [
        {
          "output_type": "execute_result",
          "data": {
            "text/plain": [
              "8"
            ]
          },
          "metadata": {},
          "execution_count": 33
        }
      ]
    },
    {
      "cell_type": "code",
      "metadata": {
        "id": "oBsWu9FmQQSC",
        "colab": {
          "base_uri": "https://localhost:8080/"
        },
        "outputId": "49a214a1-e664-40ce-a143-a24d201f5d0e"
      },
      "source": [
        "np.random.randint(0,10,5)"
      ],
      "execution_count": null,
      "outputs": [
        {
          "output_type": "execute_result",
          "data": {
            "text/plain": [
              "array([9, 9, 4, 8, 6])"
            ]
          },
          "metadata": {},
          "execution_count": 35
        }
      ]
    },
    {
      "cell_type": "code",
      "metadata": {
        "id": "0kNuJxjaQYEu",
        "colab": {
          "base_uri": "https://localhost:8080/"
        },
        "outputId": "335bc827-e200-4609-b159-89a5b733699b"
      },
      "source": [
        "np.random.randint(0,10,5)"
      ],
      "execution_count": null,
      "outputs": [
        {
          "output_type": "execute_result",
          "data": {
            "text/plain": [
              "array([8, 1, 4, 1, 2])"
            ]
          },
          "metadata": {},
          "execution_count": 36
        }
      ]
    },
    {
      "cell_type": "markdown",
      "metadata": {
        "id": "K58DiNYUmANL"
      },
      "source": [
        "---"
      ]
    },
    {
      "cell_type": "markdown",
      "metadata": {
        "id": "xU5NWjQ3F_ld"
      },
      "source": [
        "## 난수 생성 seed 설정\n",
        "- numpy.random.seed(seed=None)\n",
        "- np.random.seed(number)"
      ]
    },
    {
      "cell_type": "code",
      "metadata": {
        "id": "AxUeYmQSQawG"
      },
      "source": [
        "np.random.seed()"
      ],
      "execution_count": null,
      "outputs": []
    },
    {
      "cell_type": "code",
      "metadata": {
        "id": "C33YjKqvRJ33",
        "colab": {
          "base_uri": "https://localhost:8080/"
        },
        "outputId": "981a4448-7316-4816-f867-aa74a42826f1"
      },
      "source": [
        "np.random.rand(5)"
      ],
      "execution_count": null,
      "outputs": [
        {
          "output_type": "execute_result",
          "data": {
            "text/plain": [
              "array([0.48320958, 0.07502403, 0.70490067, 0.7714528 , 0.84015729])"
            ]
          },
          "metadata": {},
          "execution_count": 41
        }
      ]
    },
    {
      "cell_type": "code",
      "metadata": {
        "id": "Ne8rIyN9RO81",
        "colab": {
          "base_uri": "https://localhost:8080/"
        },
        "outputId": "a4c46c88-23ac-4af2-cb2d-888d7e79c686"
      },
      "source": [
        "np.random.rand(5)"
      ],
      "execution_count": null,
      "outputs": [
        {
          "output_type": "execute_result",
          "data": {
            "text/plain": [
              "array([0.88777908, 0.57907393, 0.31223064, 0.14324151, 0.08057547])"
            ]
          },
          "metadata": {},
          "execution_count": 39
        }
      ]
    },
    {
      "cell_type": "markdown",
      "metadata": {
        "id": "wnQ4gFoltu81"
      },
      "source": [
        "### 동일한 무작위수 생성\n",
        "- seed를 고정하고 무작위수 생성"
      ]
    },
    {
      "cell_type": "code",
      "metadata": {
        "id": "LGPOJGfgRSWx"
      },
      "source": [
        "np.random.seed(1234)"
      ],
      "execution_count": null,
      "outputs": []
    },
    {
      "cell_type": "code",
      "metadata": {
        "id": "t2PNRUpfRXZk",
        "colab": {
          "base_uri": "https://localhost:8080/"
        },
        "outputId": "f8e773e1-ec1c-48d5-8e8b-26764a2f0384"
      },
      "source": [
        "np.random.rand(5)"
      ],
      "execution_count": null,
      "outputs": [
        {
          "output_type": "execute_result",
          "data": {
            "text/plain": [
              "array([0.19151945, 0.62210877, 0.43772774, 0.78535858, 0.77997581])"
            ]
          },
          "metadata": {},
          "execution_count": 54
        }
      ]
    },
    {
      "cell_type": "code",
      "metadata": {
        "id": "x8yKednV8CZy",
        "colab": {
          "base_uri": "https://localhost:8080/"
        },
        "outputId": "dde1623d-3f61-4bde-9dec-b2645d9671b8"
      },
      "source": [
        "np.random.rand(5)"
      ],
      "execution_count": null,
      "outputs": [
        {
          "output_type": "execute_result",
          "data": {
            "text/plain": [
              "array([0.35781727, 0.50099513, 0.68346294, 0.71270203, 0.37025075])"
            ]
          },
          "metadata": {},
          "execution_count": 50
        }
      ]
    },
    {
      "cell_type": "code",
      "metadata": {
        "id": "bo2A_ntYRcKw"
      },
      "source": [
        "np.random.seed(1234)"
      ],
      "execution_count": null,
      "outputs": []
    },
    {
      "cell_type": "code",
      "metadata": {
        "id": "U5qXdwYQRYeT",
        "colab": {
          "base_uri": "https://localhost:8080/"
        },
        "outputId": "2af0a3d0-dace-4ef2-8420-98c08583ba6b"
      },
      "source": [
        "np.random.rand(5) # 실행 시킬 때 마다 시드를 실행 시켜야 같은 시드가 적용"
      ],
      "execution_count": null,
      "outputs": [
        {
          "output_type": "execute_result",
          "data": {
            "text/plain": [
              "array([0.19151945, 0.62210877, 0.43772774, 0.78535858, 0.77997581])"
            ]
          },
          "metadata": {},
          "execution_count": 52
        }
      ]
    },
    {
      "cell_type": "markdown",
      "metadata": {
        "id": "pwMXGAwmRhpW"
      },
      "source": [
        "### seed 고정 후에 randint(5)"
      ]
    },
    {
      "cell_type": "code",
      "metadata": {
        "id": "tqmTOMMVRhGW",
        "colab": {
          "base_uri": "https://localhost:8080/"
        },
        "outputId": "2b64dabd-6ebf-4746-8b73-bdae62d3b356"
      },
      "source": [
        "np.random.seed(5678)\n",
        "np.random.randint(1,10,5)"
      ],
      "execution_count": null,
      "outputs": [
        {
          "output_type": "execute_result",
          "data": {
            "text/plain": [
              "array([5, 8, 3, 5, 4])"
            ]
          },
          "metadata": {},
          "execution_count": 55
        }
      ]
    },
    {
      "cell_type": "code",
      "metadata": {
        "id": "YxQYjcOLSA-Z",
        "colab": {
          "base_uri": "https://localhost:8080/"
        },
        "outputId": "6702b94c-07e1-4c92-f95b-6653b0649282"
      },
      "source": [
        "np.random.randint(1,10,5)"
      ],
      "execution_count": null,
      "outputs": [
        {
          "output_type": "execute_result",
          "data": {
            "text/plain": [
              "array([6, 3, 7, 4, 1])"
            ]
          },
          "metadata": {},
          "execution_count": 56
        }
      ]
    },
    {
      "cell_type": "code",
      "metadata": {
        "id": "aQYF5QpGSD6p",
        "colab": {
          "base_uri": "https://localhost:8080/"
        },
        "outputId": "761aff3f-46e1-44ee-822b-bb428cc52476"
      },
      "source": [
        "np.random.seed(5678)\n",
        "np.random.randint(1,10,5)"
      ],
      "execution_count": null,
      "outputs": [
        {
          "output_type": "execute_result",
          "data": {
            "text/plain": [
              "array([5, 8, 3, 5, 4])"
            ]
          },
          "metadata": {},
          "execution_count": 57
        }
      ]
    },
    {
      "cell_type": "code",
      "metadata": {
        "id": "cfIhMEcVSGKa",
        "colab": {
          "base_uri": "https://localhost:8080/"
        },
        "outputId": "e90a31b1-41e7-4abb-ee88-bb7dfce5ccd3"
      },
      "source": [
        "np.random.seed(5678)\n",
        "np.random.randint(1,10,5)"
      ],
      "execution_count": null,
      "outputs": [
        {
          "output_type": "execute_result",
          "data": {
            "text/plain": [
              "array([5, 8, 3, 5, 4])"
            ]
          },
          "metadata": {},
          "execution_count": 58
        }
      ]
    },
    {
      "cell_type": "code",
      "metadata": {
        "id": "Ik9a-QkcfLwy",
        "colab": {
          "base_uri": "https://localhost:8080/"
        },
        "outputId": "d64a4ed6-61a8-43f7-8c63-1ffcf4472ad5"
      },
      "source": [
        "# seed 변경\n",
        "np.random.seed(0)\n",
        "np.random.randint(1,10,5)"
      ],
      "execution_count": null,
      "outputs": [
        {
          "output_type": "execute_result",
          "data": {
            "text/plain": [
              "array([6, 1, 4, 4, 8])"
            ]
          },
          "metadata": {},
          "execution_count": 59
        }
      ]
    },
    {
      "cell_type": "markdown",
      "metadata": {
        "id": "Zg3g31drmDMI"
      },
      "source": [
        "---\n",
        "---"
      ]
    },
    {
      "cell_type": "markdown",
      "metadata": {
        "id": "YNVh_pbhfROq"
      },
      "source": [
        "## DIY: 도전 코딩 - numpy 정리 과제\n",
        "- 생성된 마구잡이수를 조사하고 사용하기 \n",
        "- 9월19일 자정 마감."
      ]
    },
    {
      "cell_type": "markdown",
      "metadata": {
        "id": "vxNHFDSIgMmC"
      },
      "source": [
        "### [도전 1.] 0부터 9까지의 마구잡이 정수를 1000개 만들고 각 수의 빈도를 구하시오. "
      ]
    },
    {
      "cell_type": "code",
      "metadata": {
        "id": "qkDfXH1xgjBz",
        "colab": {
          "base_uri": "https://localhost:8080/"
        },
        "outputId": "c54ab96f-739d-41da-92f5-46c6580fdccd"
      },
      "source": [
        "# n1000=\n",
        "n1000 = np.random.randint(0,10,1000)\n",
        "n1000"
      ],
      "execution_count": 4,
      "outputs": [
        {
          "output_type": "execute_result",
          "data": {
            "text/plain": [
              "array([7, 5, 8, 0, 9, 7, 1, 1, 1, 4, 5, 4, 1, 4, 7, 1, 5, 1, 8, 5, 2, 4,\n",
              "       8, 5, 2, 8, 1, 9, 7, 1, 2, 0, 1, 4, 6, 8, 7, 7, 9, 1, 1, 9, 5, 1,\n",
              "       4, 2, 2, 8, 9, 1, 9, 0, 7, 6, 6, 3, 9, 1, 8, 1, 6, 3, 8, 3, 1, 3,\n",
              "       2, 4, 0, 4, 4, 5, 0, 2, 9, 3, 5, 1, 7, 8, 9, 1, 5, 6, 3, 3, 7, 9,\n",
              "       2, 2, 1, 4, 7, 0, 6, 0, 6, 0, 7, 5, 2, 2, 6, 0, 6, 0, 3, 7, 4, 9,\n",
              "       9, 8, 0, 0, 5, 5, 1, 1, 0, 8, 6, 2, 2, 8, 9, 3, 7, 1, 5, 8, 9, 4,\n",
              "       4, 5, 0, 1, 5, 8, 5, 1, 4, 7, 0, 5, 5, 6, 7, 2, 7, 3, 0, 1, 0, 6,\n",
              "       0, 8, 6, 1, 0, 7, 9, 5, 1, 2, 5, 5, 6, 9, 0, 8, 9, 5, 7, 4, 8, 0,\n",
              "       2, 8, 7, 4, 2, 2, 9, 9, 7, 3, 0, 2, 6, 8, 4, 6, 8, 6, 7, 6, 6, 5,\n",
              "       1, 1, 1, 6, 9, 5, 1, 5, 8, 1, 0, 5, 8, 9, 0, 0, 2, 4, 1, 2, 3, 7,\n",
              "       5, 5, 0, 5, 8, 0, 1, 2, 2, 0, 0, 5, 7, 5, 6, 0, 5, 2, 7, 7, 4, 2,\n",
              "       6, 0, 6, 4, 8, 6, 9, 1, 6, 1, 6, 7, 7, 6, 3, 8, 7, 6, 7, 9, 6, 9,\n",
              "       0, 1, 7, 8, 1, 2, 7, 4, 0, 9, 6, 7, 7, 8, 0, 6, 0, 1, 4, 8, 6, 2,\n",
              "       4, 5, 8, 9, 4, 9, 5, 7, 5, 5, 9, 4, 9, 4, 0, 2, 6, 1, 9, 6, 4, 7,\n",
              "       6, 8, 3, 1, 2, 8, 5, 4, 5, 6, 1, 7, 9, 0, 1, 2, 5, 2, 6, 7, 5, 8,\n",
              "       3, 4, 4, 0, 3, 0, 0, 1, 4, 7, 0, 8, 0, 7, 2, 6, 5, 3, 0, 2, 5, 2,\n",
              "       5, 6, 7, 1, 6, 6, 1, 3, 8, 3, 7, 7, 7, 9, 2, 9, 2, 9, 8, 4, 5, 6,\n",
              "       2, 6, 8, 9, 9, 2, 5, 3, 4, 0, 8, 6, 8, 2, 7, 0, 4, 3, 5, 0, 6, 1,\n",
              "       9, 1, 0, 8, 8, 6, 4, 3, 6, 7, 7, 1, 5, 5, 5, 6, 2, 4, 8, 4, 5, 1,\n",
              "       4, 5, 1, 1, 7, 0, 2, 2, 3, 7, 8, 6, 8, 1, 9, 6, 3, 3, 1, 3, 0, 4,\n",
              "       7, 2, 3, 2, 4, 9, 0, 6, 9, 1, 8, 5, 1, 4, 9, 0, 7, 3, 4, 9, 3, 8,\n",
              "       5, 3, 1, 8, 9, 2, 7, 4, 4, 1, 0, 6, 4, 8, 5, 3, 9, 8, 2, 4, 7, 2,\n",
              "       8, 3, 4, 6, 1, 3, 0, 3, 6, 6, 6, 5, 3, 6, 6, 0, 1, 2, 5, 3, 5, 8,\n",
              "       1, 1, 3, 5, 4, 3, 7, 1, 9, 1, 7, 3, 0, 8, 4, 8, 8, 3, 5, 3, 0, 0,\n",
              "       3, 7, 8, 6, 9, 1, 9, 3, 4, 1, 5, 0, 4, 9, 6, 1, 2, 6, 6, 1, 1, 9,\n",
              "       5, 3, 3, 0, 1, 7, 0, 2, 1, 3, 6, 6, 3, 6, 1, 4, 9, 3, 3, 7, 9, 6,\n",
              "       0, 1, 6, 4, 8, 7, 8, 9, 8, 5, 8, 5, 6, 7, 1, 4, 9, 2, 9, 1, 5, 9,\n",
              "       0, 7, 7, 9, 5, 1, 4, 0, 6, 7, 5, 3, 0, 7, 8, 8, 0, 6, 5, 2, 5, 6,\n",
              "       5, 2, 9, 2, 5, 9, 6, 8, 5, 9, 6, 2, 2, 9, 7, 6, 0, 6, 5, 3, 5, 5,\n",
              "       4, 2, 3, 2, 2, 6, 7, 6, 6, 2, 2, 0, 8, 4, 4, 0, 6, 7, 8, 6, 5, 1,\n",
              "       2, 8, 3, 5, 5, 2, 8, 2, 5, 0, 7, 0, 1, 1, 7, 0, 2, 7, 2, 9, 4, 0,\n",
              "       3, 3, 4, 2, 1, 8, 5, 7, 1, 3, 6, 5, 0, 7, 4, 1, 2, 9, 2, 6, 3, 5,\n",
              "       9, 8, 5, 3, 5, 6, 9, 9, 6, 2, 8, 6, 1, 6, 3, 6, 3, 3, 1, 5, 9, 5,\n",
              "       8, 9, 1, 0, 9, 3, 5, 9, 5, 1, 7, 4, 9, 0, 9, 5, 7, 0, 1, 5, 6, 7,\n",
              "       4, 7, 7, 0, 2, 9, 9, 0, 5, 4, 6, 2, 3, 9, 3, 5, 9, 4, 8, 2, 1, 5,\n",
              "       2, 0, 6, 7, 3, 4, 7, 4, 9, 1, 8, 7, 9, 3, 1, 5, 4, 5, 0, 6, 0, 2,\n",
              "       0, 5, 6, 4, 5, 4, 4, 5, 8, 0, 8, 9, 0, 6, 5, 5, 3, 8, 9, 3, 4, 5,\n",
              "       7, 9, 8, 4, 1, 6, 3, 7, 8, 2, 4, 4, 3, 2, 6, 3, 0, 7, 3, 5, 4, 5,\n",
              "       3, 7, 1, 6, 4, 0, 2, 3, 7, 8, 2, 7, 5, 8, 9, 6, 2, 9, 9, 5, 0, 3,\n",
              "       7, 1, 9, 8, 0, 4, 4, 1, 6, 6, 4, 8, 7, 4, 6, 4, 9, 7, 4, 6, 1, 7,\n",
              "       3, 6, 8, 5, 8, 8, 2, 8, 0, 3, 4, 6, 1, 4, 6, 1, 1, 4, 6, 7, 0, 2,\n",
              "       0, 1, 9, 2, 4, 3, 8, 1, 6, 6, 2, 7, 6, 2, 5, 4, 9, 5, 9, 6, 9, 1,\n",
              "       0, 7, 3, 8, 0, 5, 9, 5, 5, 2, 0, 1, 5, 9, 4, 9, 6, 9, 8, 0, 8, 1,\n",
              "       2, 9, 4, 5, 8, 0, 4, 7, 2, 8, 2, 8, 9, 9, 2, 6, 9, 3, 4, 6, 0, 6,\n",
              "       8, 2, 3, 8, 8, 7, 8, 1, 3, 5, 6, 2, 4, 6, 7, 5, 3, 3, 7, 9, 3, 8,\n",
              "       2, 3, 9, 3, 0, 6, 1, 8, 1, 6])"
            ]
          },
          "metadata": {},
          "execution_count": 4
        }
      ]
    },
    {
      "cell_type": "code",
      "metadata": {
        "id": "9_6nzbQD3FZi",
        "colab": {
          "base_uri": "https://localhost:8080/"
        },
        "outputId": "986a8a33-c47f-467b-b287-63576b0e018d"
      },
      "source": [
        "np.unique(n1000) # 1000개의 숫자중 서로 다른값을 뽑아냄"
      ],
      "execution_count": 5,
      "outputs": [
        {
          "output_type": "execute_result",
          "data": {
            "text/plain": [
              "array([0, 1, 2, 3, 4, 5, 6, 7, 8, 9])"
            ]
          },
          "metadata": {},
          "execution_count": 5
        }
      ]
    },
    {
      "cell_type": "code",
      "metadata": {
        "id": "eiw9R1243Rzp",
        "colab": {
          "base_uri": "https://localhost:8080/"
        },
        "outputId": "d91ccc80-4a22-41a9-f2df-e8ad1107d9e8"
      },
      "source": [
        "# 각 수의 빈도\n",
        "value, count= np.unique(n1000, return_counts=True)\n",
        "value, count\n",
        "\n",
        "result = dict(zip(value,count))\n",
        "result"
      ],
      "execution_count": 14,
      "outputs": [
        {
          "output_type": "execute_result",
          "data": {
            "text/plain": [
              "{0: 110, 1: 91, 2: 108, 3: 111, 4: 109, 5: 105, 6: 92, 7: 94, 8: 102, 9: 78}"
            ]
          },
          "metadata": {},
          "execution_count": 14
        }
      ]
    },
    {
      "cell_type": "markdown",
      "metadata": {
        "id": "cIhlY6-GghMN"
      },
      "source": [
        "### [도전 2.] 0부터 9까지의 마구잡이 정수를 1000개 만들고 각 수가 처음 출현하는 인덱스를 구하시오.\n",
        "> 0이 처음 나타날 때의 인덱스, 1이 처음 나타날 때의 인덱스, ... \n",
        "\n",
        "> 0이 처음 나타 났을때 몇번째 인덱스에 있을지\n",
        "ex) 1,5,6,0 이면 3\n"
      ]
    },
    {
      "cell_type": "code",
      "metadata": {
        "id": "oA1ec_RjgL3X",
        "colab": {
          "base_uri": "https://localhost:8080/"
        },
        "outputId": "adfadd33-7af2-4d7a-9d34-597476c98ec8"
      },
      "source": [
        "# 각 수가 처음 출현하는 인덱스\n",
        "n1000 = np.random.randint(0,10,1000)\n",
        "index = np.unique(n1000, return_index = True)\n",
        "index"
      ],
      "execution_count": 12,
      "outputs": [
        {
          "output_type": "execute_result",
          "data": {
            "text/plain": [
              "(array([0, 1, 2, 3, 4, 5, 6, 7, 8, 9]),\n",
              " array([22, 18,  4,  3, 17,  1,  8,  6,  5,  0]))"
            ]
          },
          "metadata": {},
          "execution_count": 12
        }
      ]
    },
    {
      "cell_type": "code",
      "metadata": {
        "id": "yubibMMZ4AZS",
        "colab": {
          "base_uri": "https://localhost:8080/",
          "height": 172
        },
        "outputId": "e9122802-de6e-48a5-de61-da4611a04eaa"
      },
      "source": [
        "n1000[index]"
      ],
      "execution_count": 15,
      "outputs": [
        {
          "output_type": "error",
          "ename": "IndexError",
          "evalue": "ignored",
          "traceback": [
            "\u001b[0;31m---------------------------------------------------------------------------\u001b[0m",
            "\u001b[0;31mIndexError\u001b[0m                                Traceback (most recent call last)",
            "\u001b[0;32m<ipython-input-15-a1d437d7a768>\u001b[0m in \u001b[0;36m<module>\u001b[0;34m()\u001b[0m\n\u001b[0;32m----> 1\u001b[0;31m \u001b[0mn1000\u001b[0m\u001b[0;34m[\u001b[0m\u001b[0mindex\u001b[0m\u001b[0;34m]\u001b[0m\u001b[0;34m\u001b[0m\u001b[0;34m\u001b[0m\u001b[0m\n\u001b[0m",
            "\u001b[0;31mIndexError\u001b[0m: too many indices for array: array is 1-dimensional, but 2 were indexed"
          ]
        }
      ]
    },
    {
      "cell_type": "markdown",
      "metadata": {
        "id": "sadkRzWjgiTM"
      },
      "source": [
        "### [도전 3.] seed를 1234로 고정하고, 위의 도전1,2를 다시 해보시오. "
      ]
    },
    {
      "cell_type": "markdown",
      "metadata": {
        "id": "zAGojAainnox"
      },
      "source": [
        "### [도전 4.] 0부터 999까지의 마구잡이 정수로 구성되는 28X28 이차원배열을 만드시오.\n",
        "- 시드를 고정 : np.random.seed(1234)\n",
        "1. 각 행의 최대값, 최소갑을 구하시오.\n",
        "2. 배열 전체의 최대값, 최소값을 구하시오.\n",
        "3. 배열전체의 최대값, 최소값의 index를 각각 찾으시오."
      ]
    },
    {
      "cell_type": "code",
      "metadata": {
        "id": "1vymhXjhBdVk",
        "outputId": "2e63de0a-d732-4164-cb68-624696df74a6",
        "colab": {
          "base_uri": "https://localhost:8080/"
        }
      },
      "source": [
        "np.random.seed(1234)\n",
        "n2828 = np.random.randint(0,1000,(28,28))"
      ],
      "execution_count": 23,
      "outputs": [
        {
          "output_type": "execute_result",
          "data": {
            "text/plain": [
              "array([815, 723, 294,  53, 204, 372, 664, 655, 689, 279, 233, 154,  30,\n",
              "       683, 158, 748, 892, 794, 374, 442, 120, 880, 476, 325, 336, 969,\n",
              "       383, 246])"
            ]
          },
          "metadata": {},
          "execution_count": 23
        }
      ]
    },
    {
      "cell_type": "markdown",
      "metadata": {
        "id": "VoSu8rNOnwPU"
      },
      "source": [
        "---\n",
        "---"
      ]
    },
    {
      "cell_type": "code",
      "metadata": {
        "id": "KK6VSL2WmpJI",
        "outputId": "eb1cee56-c1c6-459e-cbe4-d9517d3ea7c1",
        "colab": {
          "base_uri": "https://localhost:8080/",
          "height": 262
        }
      },
      "source": [
        "n2828 = np.random.randint(1000,28*28).reshape(28,28)\n",
        "n2828"
      ],
      "execution_count": 21,
      "outputs": [
        {
          "output_type": "error",
          "ename": "ValueError",
          "evalue": "ignored",
          "traceback": [
            "\u001b[0;31m---------------------------------------------------------------------------\u001b[0m",
            "\u001b[0;31mValueError\u001b[0m                                Traceback (most recent call last)",
            "\u001b[0;32m<ipython-input-21-6b129006810e>\u001b[0m in \u001b[0;36m<module>\u001b[0;34m()\u001b[0m\n\u001b[0;32m----> 1\u001b[0;31m \u001b[0mn2828\u001b[0m \u001b[0;34m=\u001b[0m \u001b[0mnp\u001b[0m\u001b[0;34m.\u001b[0m\u001b[0mrandom\u001b[0m\u001b[0;34m.\u001b[0m\u001b[0mrandint\u001b[0m\u001b[0;34m(\u001b[0m\u001b[0;36m1000\u001b[0m\u001b[0;34m,\u001b[0m\u001b[0;36m28\u001b[0m\u001b[0;34m*\u001b[0m\u001b[0;36m28\u001b[0m\u001b[0;34m)\u001b[0m\u001b[0;34m\u001b[0m\u001b[0;34m\u001b[0m\u001b[0m\n\u001b[0m\u001b[1;32m      2\u001b[0m \u001b[0mn2828\u001b[0m\u001b[0;34m\u001b[0m\u001b[0;34m\u001b[0m\u001b[0m\n",
            "\u001b[0;32mmtrand.pyx\u001b[0m in \u001b[0;36mnumpy.random.mtrand.RandomState.randint\u001b[0;34m()\u001b[0m\n",
            "\u001b[0;32m_bounded_integers.pyx\u001b[0m in \u001b[0;36mnumpy.random._bounded_integers._rand_int64\u001b[0;34m()\u001b[0m\n",
            "\u001b[0;31mValueError\u001b[0m: low >= high"
          ]
        }
      ]
    },
    {
      "cell_type": "markdown",
      "metadata": {
        "id": "ozoCcRquhg4p"
      },
      "source": [
        "## python graphics\n",
        "- matplotlib\n",
        "> import matplotlib.pyplot as plt"
      ]
    },
    {
      "cell_type": "markdown",
      "metadata": {
        "id": "h6yEJiGJ4Lbk"
      },
      "source": [
        "### 무작위수 분포 그려보기"
      ]
    },
    {
      "cell_type": "code",
      "metadata": {
        "id": "ngcwuNlfhrIQ"
      },
      "source": [
        "import matplotlib.pyplot as plt"
      ],
      "execution_count": null,
      "outputs": []
    },
    {
      "cell_type": "code",
      "metadata": {
        "id": "jr30IHxvJDuE",
        "colab": {
          "base_uri": "https://localhost:8080/",
          "height": 319
        },
        "outputId": "d388269e-c1f6-41be-973a-3fc1deb655f1"
      },
      "source": [
        "plt.hist(n1000,label=range(0,10), color='red')#, bins=100) #bins(클수록 가로축이 세분화됨) 를 20으로 하면 0.5 단위\n",
        "# plt.show()"
      ],
      "execution_count": null,
      "outputs": [
        {
          "output_type": "execute_result",
          "data": {
            "text/plain": [
              "(array([ 75.,  94., 104.,  90.,  92.,  97., 101.,  99., 125., 123.]),\n",
              " array([0. , 0.9, 1.8, 2.7, 3.6, 4.5, 5.4, 6.3, 7.2, 8.1, 9. ]),\n",
              " <a list of 10 Patch objects>)"
            ]
          },
          "metadata": {},
          "execution_count": 103
        },
        {
          "output_type": "display_data",
          "data": {
            "image/png": "[encoded data removed]",
            "text/plain": [
              "<Figure size 432x288 with 1 Axes>"
            ]
          },
          "metadata": {
            "needs_background": "light"
          }
        }
      ]
    },
    {
      "cell_type": "markdown",
      "metadata": {
        "id": "b-JcgSU-Ktyz"
      },
      "source": [
        "### [도전] 균일분포와 정규분포를 비교하는 그림을 그리시오."
      ]
    },
    {
      "cell_type": "code",
      "metadata": {
        "id": "k0XaT2f9JGZy",
        "colab": {
          "base_uri": "https://localhost:8080/",
          "height": 643
        },
        "outputId": "ef8ed393-face-483b-d814-7b3407202e1f"
      },
      "source": [
        "plt.hist(np.random.rand(1000000), bins=50)"
      ],
      "execution_count": null,
      "outputs": [
        {
          "output_type": "execute_result",
          "data": {
            "text/plain": [
              "(array([20003., 20025., 19954., 20055., 20076., 20185., 20237., 20088.,\n",
              "        19881., 19883., 19833., 19983., 19736., 19880., 20214., 19902.,\n",
              "        19962., 19947., 19941., 20232., 19766., 19765., 19975., 20067.,\n",
              "        19940., 19960., 19877., 20104., 19803., 20232., 19854., 20099.,\n",
              "        20044., 20098., 20302., 19928., 20017., 20232., 20056., 19981.,\n",
              "        20025., 20024., 20065., 19987., 19890., 20057., 19744., 20054.,\n",
              "        19846., 20191.]),\n",
              " array([3.84760368e-07, 2.00003397e-02, 4.00002946e-02, 6.00002495e-02,\n",
              "        8.00002044e-02, 1.00000159e-01, 1.20000114e-01, 1.40000069e-01,\n",
              "        1.60000024e-01, 1.79999979e-01, 1.99999934e-01, 2.19999889e-01,\n",
              "        2.39999844e-01, 2.59999799e-01, 2.79999754e-01, 2.99999709e-01,\n",
              "        3.19999663e-01, 3.39999618e-01, 3.59999573e-01, 3.79999528e-01,\n",
              "        3.99999483e-01, 4.19999438e-01, 4.39999393e-01, 4.59999348e-01,\n",
              "        4.79999303e-01, 4.99999258e-01, 5.19999213e-01, 5.39999168e-01,\n",
              "        5.59999123e-01, 5.79999077e-01, 5.99999032e-01, 6.19998987e-01,\n",
              "        6.39998942e-01, 6.59998897e-01, 6.79998852e-01, 6.99998807e-01,\n",
              "        7.19998762e-01, 7.39998717e-01, 7.59998672e-01, 7.79998627e-01,\n",
              "        7.99998582e-01, 8.19998536e-01, 8.39998491e-01, 8.59998446e-01,\n",
              "        8.79998401e-01, 8.99998356e-01, 9.19998311e-01, 9.39998266e-01,\n",
              "        9.59998221e-01, 9.79998176e-01, 9.99998131e-01]),\n",
              " <a list of 50 Patch objects>)"
            ]
          },
          "metadata": {},
          "execution_count": 118
        },
        {
          "output_type": "display_data",
          "data": {
            "image/png": "[encoded data removed]",
            "text/plain": [
              "<Figure size 432x288 with 1 Axes>"
            ]
          },
          "metadata": {
            "needs_background": "light"
          }
        }
      ]
    },
    {
      "cell_type": "code",
      "metadata": {
        "id": "T8SCqKVeMhBF",
        "colab": {
          "base_uri": "https://localhost:8080/",
          "height": 661
        },
        "outputId": "3cd60001-248b-496f-fb22-27b908d1f527"
      },
      "source": [
        "plt.hist(np.random.randn(1000000),bins=50)"
      ],
      "execution_count": null,
      "outputs": [
        {
          "output_type": "execute_result",
          "data": {
            "text/plain": [
              "(array([1.0000e+00, 1.0000e+00, 3.0000e+00, 1.0000e+01, 2.4000e+01,\n",
              "        4.2000e+01, 8.7000e+01, 1.8200e+02, 3.7300e+02, 7.1500e+02,\n",
              "        1.1570e+03, 2.0190e+03, 3.4700e+03, 5.5420e+03, 8.0700e+03,\n",
              "        1.2477e+04, 1.7837e+04, 2.4179e+04, 3.2099e+04, 4.0795e+04,\n",
              "        4.9638e+04, 5.9029e+04, 6.7051e+04, 7.3172e+04, 7.7653e+04,\n",
              "        7.7903e+04, 7.6001e+04, 7.0920e+04, 6.4312e+04, 5.5807e+04,\n",
              "        4.6710e+04, 3.7200e+04, 2.9102e+04, 2.1785e+04, 1.5592e+04,\n",
              "        1.0727e+04, 7.1290e+03, 4.7130e+03, 2.7450e+03, 1.6000e+03,\n",
              "        1.0290e+03, 5.5600e+02, 2.8600e+02, 1.3700e+02, 6.7000e+01,\n",
              "        2.7000e+01, 1.0000e+01, 8.0000e+00, 3.0000e+00, 5.0000e+00]),\n",
              " array([-4.94973609, -4.75419154, -4.55864699, -4.36310244, -4.16755789,\n",
              "        -3.97201335, -3.7764688 , -3.58092425, -3.3853797 , -3.18983515,\n",
              "        -2.99429061, -2.79874606, -2.60320151, -2.40765696, -2.21211241,\n",
              "        -2.01656787, -1.82102332, -1.62547877, -1.42993422, -1.23438967,\n",
              "        -1.03884513, -0.84330058, -0.64775603, -0.45221148, -0.25666693,\n",
              "        -0.06112239,  0.13442216,  0.32996671,  0.52551126,  0.72105581,\n",
              "         0.91660035,  1.1121449 ,  1.30768945,  1.503234  ,  1.69877855,\n",
              "         1.89432309,  2.08986764,  2.28541219,  2.48095674,  2.67650129,\n",
              "         2.87204583,  3.06759038,  3.26313493,  3.45867948,  3.65422403,\n",
              "         3.84976857,  4.04531312,  4.24085767,  4.43640222,  4.63194677,\n",
              "         4.82749131]),\n",
              " <a list of 50 Patch objects>)"
            ]
          },
          "metadata": {},
          "execution_count": 120
        },
        {
          "output_type": "display_data",
          "data": {
            "image/png": "[encoded data removed]",
            "text/plain": [
              "<Figure size 432x288 with 1 Axes>"
            ]
          },
          "metadata": {
            "needs_background": "light"
          }
        }
      ]
    },
    {
      "cell_type": "markdown",
      "metadata": {
        "id": "LYthn3089aqD"
      },
      "source": [
        "## 보충 코드"
      ]
    },
    {
      "cell_type": "code",
      "metadata": {
        "id": "BUkVDXTJMkwc",
        "colab": {
          "base_uri": "https://localhost:8080/"
        },
        "outputId": "97424458-2e58-4470-8e7f-9b8750665017"
      },
      "source": [
        "n1000 = np.random.randint(0,10,1000)\n",
        "n1000"
      ],
      "execution_count": null,
      "outputs": [
        {
          "output_type": "execute_result",
          "data": {
            "text/plain": [
              "array([6, 8, 1, 3, 7, 0, 2, 0, 5, 4, 5, 6, 7, 0, 7, 7, 4, 8, 8, 4, 3, 3,\n",
              "       1, 9, 6, 2, 4, 6, 9, 9, 9, 2, 5, 8, 8, 5, 0, 4, 8, 2, 9, 5, 0, 9,\n",
              "       4, 3, 7, 2, 2, 0, 0, 8, 6, 2, 5, 1, 7, 9, 4, 0, 3, 5, 6, 5, 5, 1,\n",
              "       0, 7, 3, 3, 1, 4, 8, 5, 8, 6, 7, 5, 0, 4, 3, 8, 5, 6, 5, 5, 0, 0,\n",
              "       7, 7, 8, 2, 1, 7, 6, 0, 0, 6, 5, 5, 7, 0, 0, 5, 5, 1, 5, 1, 5, 9,\n",
              "       7, 4, 7, 2, 0, 3, 8, 2, 2, 0, 3, 0, 7, 3, 7, 1, 5, 5, 7, 0, 3, 3,\n",
              "       6, 0, 1, 7, 6, 8, 7, 2, 6, 1, 8, 4, 9, 5, 8, 2, 9, 1, 3, 1, 3, 8,\n",
              "       8, 7, 9, 4, 7, 1, 3, 0, 0, 3, 8, 3, 1, 4, 9, 6, 6, 6, 1, 1, 8, 7,\n",
              "       0, 6, 6, 3, 3, 8, 2, 8, 1, 3, 4, 4, 3, 3, 3, 4, 7, 9, 3, 2, 1, 2,\n",
              "       3, 9, 2, 6, 5, 7, 6, 7, 1, 9, 2, 3, 8, 1, 7, 2, 2, 7, 8, 0, 3, 9,\n",
              "       6, 6, 7, 4, 9, 4, 3, 8, 7, 9, 2, 8, 9, 1, 2, 5, 3, 1, 6, 1, 8, 5,\n",
              "       9, 3, 3, 7, 6, 4, 5, 5, 2, 3, 8, 5, 9, 3, 4, 9, 6, 2, 8, 5, 5, 8,\n",
              "       9, 9, 8, 7, 1, 9, 6, 8, 7, 8, 5, 7, 0, 8, 8, 3, 2, 5, 7, 7, 6, 0,\n",
              "       3, 2, 9, 4, 5, 9, 1, 9, 1, 0, 4, 4, 0, 2, 3, 0, 8, 2, 8, 8, 5, 9,\n",
              "       2, 6, 0, 4, 6, 5, 7, 6, 8, 1, 0, 9, 8, 4, 4, 5, 4, 1, 3, 5, 3, 7,\n",
              "       8, 9, 1, 1, 2, 2, 7, 9, 5, 6, 0, 8, 9, 5, 4, 5, 2, 6, 5, 6, 6, 1,\n",
              "       2, 3, 2, 5, 9, 2, 9, 2, 3, 0, 0, 9, 5, 7, 3, 9, 9, 0, 5, 4, 1, 0,\n",
              "       0, 0, 4, 9, 4, 0, 8, 7, 1, 8, 9, 6, 4, 8, 9, 6, 4, 7, 0, 4, 3, 4,\n",
              "       9, 9, 6, 1, 3, 2, 8, 5, 0, 6, 7, 8, 2, 8, 6, 4, 8, 5, 9, 4, 7, 0,\n",
              "       4, 8, 1, 1, 7, 9, 8, 7, 5, 5, 9, 4, 8, 1, 7, 1, 9, 5, 1, 3, 0, 2,\n",
              "       7, 9, 4, 9, 1, 2, 3, 6, 8, 5, 6, 1, 0, 0, 1, 5, 7, 7, 0, 4, 4, 3,\n",
              "       8, 7, 7, 4, 2, 2, 2, 4, 1, 2, 4, 4, 2, 7, 3, 2, 1, 7, 0, 4, 4, 9,\n",
              "       5, 4, 9, 3, 2, 1, 5, 3, 5, 7, 3, 8, 5, 7, 8, 3, 9, 5, 5, 4, 3, 8,\n",
              "       9, 8, 0, 4, 2, 5, 9, 2, 5, 1, 9, 8, 8, 3, 6, 2, 5, 8, 2, 5, 0, 7,\n",
              "       0, 8, 9, 2, 4, 1, 0, 1, 9, 9, 4, 1, 8, 8, 9, 2, 1, 6, 2, 5, 3, 1,\n",
              "       7, 9, 8, 1, 9, 9, 0, 2, 0, 0, 1, 9, 5, 4, 5, 4, 9, 2, 5, 4, 6, 4,\n",
              "       1, 9, 8, 6, 6, 7, 6, 0, 4, 3, 7, 9, 9, 2, 9, 6, 0, 2, 6, 8, 7, 1,\n",
              "       1, 0, 1, 4, 1, 0, 3, 8, 4, 9, 1, 4, 6, 4, 2, 7, 4, 2, 5, 9, 2, 9,\n",
              "       6, 5, 8, 8, 7, 8, 8, 0, 1, 9, 9, 7, 8, 5, 2, 8, 8, 7, 3, 6, 0, 5,\n",
              "       0, 9, 1, 8, 3, 6, 9, 4, 0, 3, 3, 5, 6, 0, 5, 4, 9, 0, 2, 4, 5, 1,\n",
              "       0, 7, 6, 3, 8, 1, 2, 6, 0, 5, 4, 0, 5, 8, 6, 2, 2, 3, 6, 2, 2, 7,\n",
              "       8, 6, 0, 8, 0, 8, 0, 9, 9, 4, 7, 7, 7, 0, 3, 2, 4, 5, 5, 2, 4, 8,\n",
              "       0, 0, 1, 4, 9, 1, 3, 8, 8, 3, 5, 8, 2, 3, 8, 0, 5, 8, 0, 0, 0, 5,\n",
              "       5, 9, 7, 7, 8, 0, 7, 2, 4, 1, 6, 7, 9, 2, 6, 3, 3, 9, 6, 9, 9, 1,\n",
              "       5, 4, 3, 9, 4, 1, 9, 0, 1, 0, 0, 5, 9, 4, 5, 2, 0, 6, 4, 4, 2, 8,\n",
              "       9, 6, 7, 7, 6, 6, 0, 7, 5, 8, 9, 9, 8, 0, 8, 7, 4, 0, 0, 7, 5, 0,\n",
              "       7, 2, 2, 0, 6, 6, 7, 2, 1, 9, 5, 4, 3, 9, 7, 5, 5, 4, 4, 3, 9, 5,\n",
              "       5, 9, 3, 3, 3, 6, 9, 2, 6, 7, 4, 6, 4, 8, 0, 8, 8, 2, 6, 3, 6, 2,\n",
              "       4, 2, 5, 0, 5, 4, 8, 5, 9, 1, 7, 0, 6, 2, 2, 6, 0, 2, 5, 9, 1, 8,\n",
              "       0, 6, 9, 6, 5, 3, 3, 6, 1, 4, 6, 2, 6, 2, 2, 3, 2, 1, 0, 7, 1, 4,\n",
              "       7, 1, 1, 1, 7, 4, 6, 5, 8, 5, 5, 8, 8, 5, 1, 2, 0, 8, 7, 8, 6, 5,\n",
              "       9, 4, 9, 6, 2, 1, 2, 8, 8, 4, 6, 9, 9, 2, 4, 4, 5, 5, 5, 7, 3, 9,\n",
              "       1, 0, 7, 0, 6, 7, 1, 6, 8, 2, 2, 5, 5, 3, 8, 1, 6, 4, 2, 9, 5, 7,\n",
              "       6, 1, 8, 1, 8, 0, 0, 3, 9, 7, 8, 9, 9, 5, 6, 4, 6, 7, 1, 4, 4, 1,\n",
              "       3, 0, 1, 5, 3, 8, 9, 0, 5, 7, 2, 4, 8, 1, 2, 6, 6, 5, 2, 4, 7, 6,\n",
              "       1, 2, 2, 9, 5, 2, 7, 7, 7, 9])"
            ]
          },
          "metadata": {},
          "execution_count": 73
        }
      ]
    },
    {
      "cell_type": "code",
      "metadata": {
        "id": "xza_yV8nMshU"
      },
      "source": [
        "value, count= np.unique(n1000, return_counts=True)"
      ],
      "execution_count": null,
      "outputs": []
    },
    {
      "cell_type": "code",
      "metadata": {
        "id": "al1pM1aK9Vk7",
        "colab": {
          "base_uri": "https://localhost:8080/"
        },
        "outputId": "0f599665-20dc-4680-cd6d-55d611d0a553"
      },
      "source": [
        "value, count"
      ],
      "execution_count": null,
      "outputs": [
        {
          "output_type": "execute_result",
          "data": {
            "text/plain": [
              "(array([0, 1, 2, 3, 4, 5, 6, 7, 8, 9]),\n",
              " array([102,  91, 102,  84,  98, 112,  93,  98, 110, 110]))"
            ]
          },
          "metadata": {},
          "execution_count": 75
        }
      ]
    }
  ]
}