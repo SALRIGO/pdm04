{
  "nbformat": 4,
  "nbformat_minor": 0,
  "metadata": {
    "kernelspec": {
      "name": "python3",
      "display_name": "Python 3"
    },
    "language_info": {
      "codemirror_mode": {
        "name": "ipython",
        "version": 3
      },
      "file_extension": ".py",
      "mimetype": "text/x-python",
      "name": "python",
      "nbconvert_exporter": "python",
      "pygments_lexer": "ipython3",
      "version": "3.6.6"
    },
    "colab": {
      "name": "pandas_4_visualizing_df.ipynb",
      "provenance": [],
      "collapsed_sections": [],
      "include_colab_link": true
    }
  },
  "cells": [
    {
      "cell_type": "markdown",
      "metadata": {
        "id": "view-in-github",
        "colab_type": "text"
      },
      "source": [
        "<a href=\"https://colab.research.google.com/github/SALRIGO/pdm04/blob/main/py-pandas/pandas_4_visualizing_df.ipynb\" target=\"_parent\"><img src=\"https://colab.research.google.com/assets/colab-badge.svg\" alt=\"Open In Colab\"/></a>"
      ]
    },
    {
      "cell_type": "markdown",
      "metadata": {
        "id": "-a_Ksvwdx5pf"
      },
      "source": [
        "### Python module 3. **pandas**"
      ]
    },
    {
      "cell_type": "markdown",
      "metadata": {
        "id": "P_F0RSPKx5pl"
      },
      "source": [
        "# Using pandas"
      ]
    },
    {
      "cell_type": "markdown",
      "metadata": {
        "id": "FfxMgWUFx5pm"
      },
      "source": [
        "* [10 Minutes to pandas](https://pandas.pydata.org/pandas-docs/stable/10min.html)\n",
        "* [Pandas tutorial with interactive exercises](https://www.kaggle.com/pistak/pandas-tutorial-with-interactive-exercises)"
      ]
    },
    {
      "cell_type": "code",
      "metadata": {
        "id": "2mpGSeRlx5po"
      },
      "source": [
        "import pandas as pd\n",
        "import numpy as np\n",
        "import matplotlib.pyplot as plt\n",
        "# %matplotlib inline  # work for Jupyter notebook or lab"
      ],
      "execution_count": 1,
      "outputs": []
    },
    {
      "cell_type": "code",
      "metadata": {
        "id": "w2eNkCfLx5p-",
        "colab": {
          "base_uri": "https://localhost:8080/"
        },
        "outputId": "704eabc2-b965-41d2-ecaa-93b1c30ee156"
      },
      "source": [
        "# Creating a DataFrame by passing a NumPy array, with a datetime index and labeled columns:\n",
        "dates = pd.date_range('20210927', periods=6)\n",
        "dates"
      ],
      "execution_count": 2,
      "outputs": [
        {
          "output_type": "execute_result",
          "data": {
            "text/plain": [
              "DatetimeIndex(['2021-09-27', '2021-09-28', '2021-09-29', '2021-09-30',\n",
              "               '2021-10-01', '2021-10-02'],\n",
              "              dtype='datetime64[ns]', freq='D')"
            ]
          },
          "metadata": {},
          "execution_count": 2
        }
      ]
    },
    {
      "cell_type": "code",
      "metadata": {
        "id": "dHwUodTGx5qj",
        "colab": {
          "base_uri": "https://localhost:8080/",
          "height": 235
        },
        "outputId": "e3625d83-2af1-46aa-81ab-4f8b2533efa9"
      },
      "source": [
        "# head()\n",
        "df = pd.DataFrame(np.random.randn(6,4), index=dates, columns=list('ABCD'))\n",
        "df"
      ],
      "execution_count": 3,
      "outputs": [
        {
          "output_type": "execute_result",
          "data": {
            "text/html": [
              "<div>\n",
              "<style scoped>\n",
              "    .dataframe tbody tr th:only-of-type {\n",
              "        vertical-align: middle;\n",
              "    }\n",
              "\n",
              "    .dataframe tbody tr th {\n",
              "        vertical-align: top;\n",
              "    }\n",
              "\n",
              "    .dataframe thead th {\n",
              "        text-align: right;\n",
              "    }\n",
              "</style>\n",
              "<table border=\"1\" class=\"dataframe\">\n",
              "  <thead>\n",
              "    <tr style=\"text-align: right;\">\n",
              "      <th></th>\n",
              "      <th>A</th>\n",
              "      <th>B</th>\n",
              "      <th>C</th>\n",
              "      <th>D</th>\n",
              "    </tr>\n",
              "  </thead>\n",
              "  <tbody>\n",
              "    <tr>\n",
              "      <th>2021-09-27</th>\n",
              "      <td>-1.305098</td>\n",
              "      <td>-0.212373</td>\n",
              "      <td>-1.965969</td>\n",
              "      <td>0.977951</td>\n",
              "    </tr>\n",
              "    <tr>\n",
              "      <th>2021-09-28</th>\n",
              "      <td>-0.661171</td>\n",
              "      <td>-0.980244</td>\n",
              "      <td>0.194723</td>\n",
              "      <td>-2.021536</td>\n",
              "    </tr>\n",
              "    <tr>\n",
              "      <th>2021-09-29</th>\n",
              "      <td>1.466278</td>\n",
              "      <td>-0.659106</td>\n",
              "      <td>1.025364</td>\n",
              "      <td>1.236499</td>\n",
              "    </tr>\n",
              "    <tr>\n",
              "      <th>2021-09-30</th>\n",
              "      <td>-0.694863</td>\n",
              "      <td>-0.563236</td>\n",
              "      <td>-0.654047</td>\n",
              "      <td>0.964901</td>\n",
              "    </tr>\n",
              "    <tr>\n",
              "      <th>2021-10-01</th>\n",
              "      <td>0.460766</td>\n",
              "      <td>-0.770886</td>\n",
              "      <td>-0.952626</td>\n",
              "      <td>2.290911</td>\n",
              "    </tr>\n",
              "    <tr>\n",
              "      <th>2021-10-02</th>\n",
              "      <td>-0.050107</td>\n",
              "      <td>-1.354679</td>\n",
              "      <td>0.731750</td>\n",
              "      <td>0.860943</td>\n",
              "    </tr>\n",
              "  </tbody>\n",
              "</table>\n",
              "</div>"
            ],
            "text/plain": [
              "                   A         B         C         D\n",
              "2021-09-27 -1.305098 -0.212373 -1.965969  0.977951\n",
              "2021-09-28 -0.661171 -0.980244  0.194723 -2.021536\n",
              "2021-09-29  1.466278 -0.659106  1.025364  1.236499\n",
              "2021-09-30 -0.694863 -0.563236 -0.654047  0.964901\n",
              "2021-10-01  0.460766 -0.770886 -0.952626  2.290911\n",
              "2021-10-02 -0.050107 -1.354679  0.731750  0.860943"
            ]
          },
          "metadata": {},
          "execution_count": 3
        }
      ]
    },
    {
      "cell_type": "markdown",
      "metadata": {
        "id": "wq1nIp3F1fFB"
      },
      "source": [
        "\n",
        "\n",
        "---\n",
        "\n"
      ]
    },
    {
      "cell_type": "markdown",
      "metadata": {
        "id": "I1IgbN4Gx5s4"
      },
      "source": [
        "# 데이터 시각화"
      ]
    },
    {
      "cell_type": "markdown",
      "metadata": {
        "id": "vaKGa-Yx6cvg"
      },
      "source": [
        "#### [도전] 데이터프레임 df의 평균(mean(0))과 표준편차를 이용한 그래프\n",
        "- 평균에 대한 꺽은선그래프\n",
        "- 평균과 표준편차를 이용한 막대그래프\n",
        "> x-축은 A,B,C,D"
      ]
    },
    {
      "cell_type": "code",
      "metadata": {
        "id": "A2YtMydfBFUV",
        "colab": {
          "base_uri": "https://localhost:8080/",
          "height": 321
        },
        "outputId": "7413f221-ca44-4e77-f89d-ac4b74afc7fa"
      },
      "source": [
        "# df의 평균(mean(0))과 표준편차를 이용한 바그래프\n",
        "bar_labels = df.columns\n",
        "# plot bars\n",
        "plt.bar(bar_labels, df.mean(0), yerr=df.std(0), color='rgbcy')\n",
        "plt.show()"
      ],
      "execution_count": 4,
      "outputs": [
        {
          "output_type": "stream",
          "name": "stderr",
          "text": [
            "/usr/local/lib/python3.7/dist-packages/ipykernel_launcher.py:4: MatplotlibDeprecationWarning: Using a string of single character colors as a color sequence is deprecated. Use an explicit list instead.\n",
            "  after removing the cwd from sys.path.\n"
          ]
        },
        {
          "output_type": "display_data",
          "data": {
            "image/png": "[encoded data removed]",
            "text/plain": [
              "<Figure size 432x288 with 1 Axes>"
            ]
          },
          "metadata": {
            "needs_background": "light"
          }
        }
      ]
    },
    {
      "cell_type": "markdown",
      "metadata": {
        "id": "Kf4ixkqVx5uH"
      },
      "source": [
        "***"
      ]
    },
    {
      "cell_type": "markdown",
      "metadata": {
        "id": "4ufrGhr47LKj"
      },
      "source": [
        "## pandas의 데이터 시각화 (Visualization)"
      ]
    },
    {
      "cell_type": "code",
      "metadata": {
        "id": "t4O_8Rnw7UER",
        "colab": {
          "base_uri": "https://localhost:8080/",
          "height": 235
        },
        "outputId": "a991cff1-a0f3-4c87-9fc8-5dfcdd8a47d0"
      },
      "source": [
        "df"
      ],
      "execution_count": 5,
      "outputs": [
        {
          "output_type": "execute_result",
          "data": {
            "text/html": [
              "<div>\n",
              "<style scoped>\n",
              "    .dataframe tbody tr th:only-of-type {\n",
              "        vertical-align: middle;\n",
              "    }\n",
              "\n",
              "    .dataframe tbody tr th {\n",
              "        vertical-align: top;\n",
              "    }\n",
              "\n",
              "    .dataframe thead th {\n",
              "        text-align: right;\n",
              "    }\n",
              "</style>\n",
              "<table border=\"1\" class=\"dataframe\">\n",
              "  <thead>\n",
              "    <tr style=\"text-align: right;\">\n",
              "      <th></th>\n",
              "      <th>A</th>\n",
              "      <th>B</th>\n",
              "      <th>C</th>\n",
              "      <th>D</th>\n",
              "    </tr>\n",
              "  </thead>\n",
              "  <tbody>\n",
              "    <tr>\n",
              "      <th>2021-09-27</th>\n",
              "      <td>-1.305098</td>\n",
              "      <td>-0.212373</td>\n",
              "      <td>-1.965969</td>\n",
              "      <td>0.977951</td>\n",
              "    </tr>\n",
              "    <tr>\n",
              "      <th>2021-09-28</th>\n",
              "      <td>-0.661171</td>\n",
              "      <td>-0.980244</td>\n",
              "      <td>0.194723</td>\n",
              "      <td>-2.021536</td>\n",
              "    </tr>\n",
              "    <tr>\n",
              "      <th>2021-09-29</th>\n",
              "      <td>1.466278</td>\n",
              "      <td>-0.659106</td>\n",
              "      <td>1.025364</td>\n",
              "      <td>1.236499</td>\n",
              "    </tr>\n",
              "    <tr>\n",
              "      <th>2021-09-30</th>\n",
              "      <td>-0.694863</td>\n",
              "      <td>-0.563236</td>\n",
              "      <td>-0.654047</td>\n",
              "      <td>0.964901</td>\n",
              "    </tr>\n",
              "    <tr>\n",
              "      <th>2021-10-01</th>\n",
              "      <td>0.460766</td>\n",
              "      <td>-0.770886</td>\n",
              "      <td>-0.952626</td>\n",
              "      <td>2.290911</td>\n",
              "    </tr>\n",
              "    <tr>\n",
              "      <th>2021-10-02</th>\n",
              "      <td>-0.050107</td>\n",
              "      <td>-1.354679</td>\n",
              "      <td>0.731750</td>\n",
              "      <td>0.860943</td>\n",
              "    </tr>\n",
              "  </tbody>\n",
              "</table>\n",
              "</div>"
            ],
            "text/plain": [
              "                   A         B         C         D\n",
              "2021-09-27 -1.305098 -0.212373 -1.965969  0.977951\n",
              "2021-09-28 -0.661171 -0.980244  0.194723 -2.021536\n",
              "2021-09-29  1.466278 -0.659106  1.025364  1.236499\n",
              "2021-09-30 -0.694863 -0.563236 -0.654047  0.964901\n",
              "2021-10-01  0.460766 -0.770886 -0.952626  2.290911\n",
              "2021-10-02 -0.050107 -1.354679  0.731750  0.860943"
            ]
          },
          "metadata": {},
          "execution_count": 5
        }
      ]
    },
    {
      "cell_type": "markdown",
      "metadata": {
        "id": "LQw5KvJgH3Lk"
      },
      "source": [
        "### 꺽은선 그래프"
      ]
    },
    {
      "cell_type": "code",
      "metadata": {
        "id": "Twvix2E7EvNm",
        "colab": {
          "base_uri": "https://localhost:8080/",
          "height": 307
        },
        "outputId": "81184b98-b73a-41af-de6f-61d08f010ac8"
      },
      "source": [
        "df['A'].plot(marker='o', c='r', ms=8)"
      ],
      "execution_count": 6,
      "outputs": [
        {
          "output_type": "execute_result",
          "data": {
            "text/plain": [
              "<matplotlib.axes._subplots.AxesSubplot at 0x7efd04e60cd0>"
            ]
          },
          "metadata": {},
          "execution_count": 6
        },
        {
          "output_type": "display_data",
          "data": {
            "image/png": "[encoded data removed]",
            "text/plain": [
              "<Figure size 432x288 with 1 Axes>"
            ]
          },
          "metadata": {
            "needs_background": "light"
          }
        }
      ]
    },
    {
      "cell_type": "code",
      "metadata": {
        "id": "eYBvunC9E1FP",
        "colab": {
          "base_uri": "https://localhost:8080/",
          "height": 307
        },
        "outputId": "65c36038-d09a-4c3d-db6a-94c92d17f0e3"
      },
      "source": [
        "df['C'].plot(marker='D', c='g', ms=8)  # set figsize"
      ],
      "execution_count": 7,
      "outputs": [
        {
          "output_type": "execute_result",
          "data": {
            "text/plain": [
              "<matplotlib.axes._subplots.AxesSubplot at 0x7efd046c03d0>"
            ]
          },
          "metadata": {},
          "execution_count": 7
        },
        {
          "output_type": "display_data",
          "data": {
            "image/png": "[encoded data removed]",
            "text/plain": [
              "<Figure size 432x288 with 1 Axes>"
            ]
          },
          "metadata": {
            "needs_background": "light"
          }
        }
      ]
    },
    {
      "cell_type": "code",
      "metadata": {
        "id": "2Ky8komoHYt6",
        "colab": {
          "base_uri": "https://localhost:8080/",
          "height": 307
        },
        "outputId": "d55fad68-4121-4e97-bc87-3792e274cc6c"
      },
      "source": [
        "df.plot(y='D', marker='*', c='r', ms=12)   # x-축은 날짜인덱스"
      ],
      "execution_count": 8,
      "outputs": [
        {
          "output_type": "execute_result",
          "data": {
            "text/plain": [
              "<matplotlib.axes._subplots.AxesSubplot at 0x7efd046a06d0>"
            ]
          },
          "metadata": {},
          "execution_count": 8
        },
        {
          "output_type": "display_data",
          "data": {
            "image/png": "[encoded data removed]",
            "text/plain": [
              "<Figure size 432x288 with 1 Axes>"
            ]
          },
          "metadata": {
            "needs_background": "light"
          }
        }
      ]
    },
    {
      "cell_type": "code",
      "metadata": {
        "id": "l1IlNnuUF95d",
        "colab": {
          "base_uri": "https://localhost:8080/",
          "height": 307
        },
        "outputId": "0d4dc25d-8dac-4506-c6a2-e513bf5642d2"
      },
      "source": [
        "# 두 개의 그래프를 한 축에 그리기\n",
        "# df['A','D'].plot(marker='o', c='r', ms=8) # KeyError 발생 'A'와'D' 독립적으로 처리하면 오류 발생\n",
        "df[['A','D']].plot(marker='o', c='r', ms=8)  # works!, change colors"
      ],
      "execution_count": 9,
      "outputs": [
        {
          "output_type": "execute_result",
          "data": {
            "text/plain": [
              "<matplotlib.axes._subplots.AxesSubplot at 0x7efd04620910>"
            ]
          },
          "metadata": {},
          "execution_count": 9
        },
        {
          "output_type": "display_data",
          "data": {
            "image/png": "[encoded data removed]",
            "text/plain": [
              "<Figure size 432x288 with 1 Axes>"
            ]
          },
          "metadata": {
            "needs_background": "light"
          }
        }
      ]
    },
    {
      "cell_type": "code",
      "metadata": {
        "colab": {
          "base_uri": "https://localhost:8080/",
          "height": 307
        },
        "id": "6O_5eVDgr4Ph",
        "outputId": "f6b3122d-cf12-4e3d-e7ac-07a33708cd66"
      },
      "source": [
        "# 다른 색의 그래프로 연출\n",
        "df[['A','D']].plot(marker='o', color='rg', ms=8)"
      ],
      "execution_count": 10,
      "outputs": [
        {
          "output_type": "execute_result",
          "data": {
            "text/plain": [
              "<matplotlib.axes._subplots.AxesSubplot at 0x7efd0aff1290>"
            ]
          },
          "metadata": {},
          "execution_count": 10
        },
        {
          "output_type": "display_data",
          "data": {
            "image/png": "[encoded data removed]",
            "text/plain": [
              "<Figure size 432x288 with 1 Axes>"
            ]
          },
          "metadata": {
            "needs_background": "light"
          }
        }
      ]
    },
    {
      "cell_type": "code",
      "metadata": {
        "id": "PpO346h9GB5E",
        "colab": {
          "base_uri": "https://localhost:8080/",
          "height": 307
        },
        "outputId": "d443c574-6053-486a-98e4-426902afe2f8"
      },
      "source": [
        "df.plot(y=['A','C'], marker='o')"
      ],
      "execution_count": 11,
      "outputs": [
        {
          "output_type": "execute_result",
          "data": {
            "text/plain": [
              "<matplotlib.axes._subplots.AxesSubplot at 0x7efd045b9750>"
            ]
          },
          "metadata": {},
          "execution_count": 11
        },
        {
          "output_type": "display_data",
          "data": {
            "image/png": "[encoded data removed]",
            "text/plain": [
              "<Figure size 432x288 with 1 Axes>"
            ]
          },
          "metadata": {
            "needs_background": "light"
          }
        }
      ]
    },
    {
      "cell_type": "markdown",
      "metadata": {
        "id": "zDd0SXGSQKMR"
      },
      "source": [
        "### 산포도 (Scatter graph)"
      ]
    },
    {
      "cell_type": "code",
      "metadata": {
        "id": "qVXSMlMVQTYN",
        "colab": {
          "base_uri": "https://localhost:8080/",
          "height": 297
        },
        "outputId": "77e00cee-2065-4d3a-9c3a-f696fd6e24cf"
      },
      "source": [
        "df.plot(kind='scatter',x='C',y='A', color='r', marker='o', s=32)  "
      ],
      "execution_count": 12,
      "outputs": [
        {
          "output_type": "execute_result",
          "data": {
            "text/plain": [
              "<matplotlib.axes._subplots.AxesSubplot at 0x7efd0447e610>"
            ]
          },
          "metadata": {},
          "execution_count": 12
        },
        {
          "output_type": "display_data",
          "data": {
            "image/png": "[encoded data removed]",
            "text/plain": [
              "<Figure size 432x288 with 1 Axes>"
            ]
          },
          "metadata": {
            "needs_background": "light"
          }
        }
      ]
    },
    {
      "cell_type": "code",
      "metadata": {
        "id": "zLlbFKxERJ9p",
        "colab": {
          "base_uri": "https://localhost:8080/",
          "height": 297
        },
        "outputId": "e85e7e0e-4010-4cfc-e2c3-19576ea2363e"
      },
      "source": [
        "df.plot(kind='scatter',x='B',y='C', color='blue', marker='d', s=50)  "
      ],
      "execution_count": 13,
      "outputs": [
        {
          "output_type": "execute_result",
          "data": {
            "text/plain": [
              "<matplotlib.axes._subplots.AxesSubplot at 0x7efd04411690>"
            ]
          },
          "metadata": {},
          "execution_count": 13
        },
        {
          "output_type": "display_data",
          "data": {
            "image/png": "[encoded data removed]",
            "text/plain": [
              "<Figure size 432x288 with 1 Axes>"
            ]
          },
          "metadata": {
            "needs_background": "light"
          }
        }
      ]
    },
    {
      "cell_type": "markdown",
      "metadata": {
        "id": "sirI2suwH9Yh"
      },
      "source": [
        "### 바 그래프"
      ]
    },
    {
      "cell_type": "code",
      "metadata": {
        "id": "0YVzF5xyGiFc",
        "colab": {
          "base_uri": "https://localhost:8080/",
          "height": 378
        },
        "outputId": "91a97524-fb06-4465-c22a-4161ce519d90"
      },
      "source": [
        "df['A'].plot.bar()"
      ],
      "execution_count": 14,
      "outputs": [
        {
          "output_type": "execute_result",
          "data": {
            "text/plain": [
              "<matplotlib.axes._subplots.AxesSubplot at 0x7efd04382890>"
            ]
          },
          "metadata": {},
          "execution_count": 14
        },
        {
          "output_type": "display_data",
          "data": {
            "image/png": "[encoded data removed]",
            "text/plain": [
              "<Figure size 432x288 with 1 Axes>"
            ]
          },
          "metadata": {
            "needs_background": "light"
          }
        }
      ]
    },
    {
      "cell_type": "code",
      "metadata": {
        "id": "OQVX4QH3IWIK",
        "colab": {
          "base_uri": "https://localhost:8080/",
          "height": 378
        },
        "outputId": "83032be3-af5f-4302-81b4-17b9c07fdd3d"
      },
      "source": [
        "df['D'].plot.bar()"
      ],
      "execution_count": 15,
      "outputs": [
        {
          "output_type": "execute_result",
          "data": {
            "text/plain": [
              "<matplotlib.axes._subplots.AxesSubplot at 0x7efd042f4950>"
            ]
          },
          "metadata": {},
          "execution_count": 15
        },
        {
          "output_type": "display_data",
          "data": {
            "image/png": "[encoded data removed]",
            "text/plain": [
              "<Figure size 432x288 with 1 Axes>"
            ]
          },
          "metadata": {
            "needs_background": "light"
          }
        }
      ]
    },
    {
      "cell_type": "code",
      "metadata": {
        "id": "pSekXLHMoPr9",
        "colab": {
          "base_uri": "https://localhost:8080/",
          "height": 365
        },
        "outputId": "3f9c2803-a8f0-421a-f256-ba6e03ad974c"
      },
      "source": [
        "df.plot(kind='bar', y='D', rot=55)"
      ],
      "execution_count": 16,
      "outputs": [
        {
          "output_type": "execute_result",
          "data": {
            "text/plain": [
              "<matplotlib.axes._subplots.AxesSubplot at 0x7efd04e3a310>"
            ]
          },
          "metadata": {},
          "execution_count": 16
        },
        {
          "output_type": "display_data",
          "data": {
            "image/png": "[encoded data removed]",
            "text/plain": [
              "<Figure size 432x288 with 1 Axes>"
            ]
          },
          "metadata": {
            "needs_background": "light"
          }
        }
      ]
    },
    {
      "cell_type": "markdown",
      "metadata": {
        "id": "WUEzWDX5JC16"
      },
      "source": [
        "#### 다중 바그래프"
      ]
    },
    {
      "cell_type": "code",
      "metadata": {
        "id": "gcxproHoIMbt",
        "colab": {
          "base_uri": "https://localhost:8080/",
          "height": 378
        },
        "outputId": "830ad372-8b39-4b13-b0fe-303e32d81961"
      },
      "source": [
        "df.plot(kind='bar',y=['A','C','D'])"
      ],
      "execution_count": 17,
      "outputs": [
        {
          "output_type": "execute_result",
          "data": {
            "text/plain": [
              "<matplotlib.axes._subplots.AxesSubplot at 0x7efd041eb190>"
            ]
          },
          "metadata": {},
          "execution_count": 17
        },
        {
          "output_type": "display_data",
          "data": {
            "image/png": "[encoded data removed]",
            "text/plain": [
              "<Figure size 432x288 with 1 Axes>"
            ]
          },
          "metadata": {
            "needs_background": "light"
          }
        }
      ]
    },
    {
      "cell_type": "markdown",
      "metadata": {
        "id": "k1zlpFKBm4jc"
      },
      "source": [
        "#### 평균/표준편차 그래프"
      ]
    },
    {
      "cell_type": "code",
      "metadata": {
        "id": "1kiH3AgYn4hm",
        "colab": {
          "base_uri": "https://localhost:8080/"
        },
        "outputId": "104b0e4d-a062-4d6c-b03d-996b83c5eac9"
      },
      "source": [
        "df.mean(0), df.std(0), df.columns"
      ],
      "execution_count": 18,
      "outputs": [
        {
          "output_type": "execute_result",
          "data": {
            "text/plain": [
              "(A   -0.130699\n",
              " B   -0.756754\n",
              " C   -0.270134\n",
              " D    0.718278\n",
              " dtype: float64, A    0.988489\n",
              " B    0.387555\n",
              " C    1.130241\n",
              " D    1.442007\n",
              " dtype: float64, Index(['A', 'B', 'C', 'D'], dtype='object'))"
            ]
          },
          "metadata": {},
          "execution_count": 18
        }
      ]
    },
    {
      "cell_type": "code",
      "metadata": {
        "id": "SgMoh5uTIfgk",
        "colab": {
          "base_uri": "https://localhost:8080/",
          "height": 283
        },
        "outputId": "81c1b48f-9fe6-4e89-bf00-3da3ef04ff1d"
      },
      "source": [
        "# plot bars\n",
        "# bar_labels = df.columns\n",
        "# plt.bar(bar_labels, df.mean(0), yerr=df.std(0))\n",
        "df.mean(0).plot.bar(yerr=df.std(0), rot=0) "
      ],
      "execution_count": 19,
      "outputs": [
        {
          "output_type": "execute_result",
          "data": {
            "text/plain": [
              "<matplotlib.axes._subplots.AxesSubplot at 0x7efd044307d0>"
            ]
          },
          "metadata": {},
          "execution_count": 19
        },
        {
          "output_type": "display_data",
          "data": {
            "image/png": "[encoded data removed]",
            "text/plain": [
              "<Figure size 432x288 with 1 Axes>"
            ]
          },
          "metadata": {
            "needs_background": "light"
          }
        }
      ]
    },
    {
      "cell_type": "markdown",
      "metadata": {
        "id": "IJk__nDpx9MI"
      },
      "source": [
        "\n",
        "\n",
        "---\n",
        "\n"
      ]
    },
    {
      "cell_type": "markdown",
      "metadata": {
        "id": "dmtUkwvkyC-8"
      },
      "source": [
        "### 그래프 이어 그리기"
      ]
    },
    {
      "cell_type": "code",
      "metadata": {
        "id": "zihYMbXbJP0k",
        "colab": {
          "base_uri": "https://localhost:8080/",
          "height": 283
        },
        "outputId": "d5f87dfc-f33f-4c54-bdca-1f2b9eff1725"
      },
      "source": [
        "x1 = np.arange(0.0, 5.0, 0.01)\n",
        "y1 = np.sin(2*np.pi*x1)\n",
        "plt.figure(figsize=(10,4))\n",
        "plt.plot(x1, y1, 'o', ms = 4)"
      ],
      "execution_count": 20,
      "outputs": [
        {
          "output_type": "execute_result",
          "data": {
            "text/plain": [
              "[<matplotlib.lines.Line2D at 0x7efd0410fa90>]"
            ]
          },
          "metadata": {},
          "execution_count": 20
        },
        {
          "output_type": "display_data",
          "data": {
            "image/png": "[encoded data removed]",
            "text/plain": [
              "<Figure size 720x288 with 1 Axes>"
            ]
          },
          "metadata": {
            "needs_background": "light"
          }
        }
      ]
    },
    {
      "cell_type": "code",
      "metadata": {
        "id": "qTNhXTqZzKlN",
        "colab": {
          "base_uri": "https://localhost:8080/"
        },
        "outputId": "0ec368d1-e91e-4838-9dce-a53c56970603"
      },
      "source": [
        "x1.shape, y1.shape"
      ],
      "execution_count": 21,
      "outputs": [
        {
          "output_type": "execute_result",
          "data": {
            "text/plain": [
              "((500,), (500,))"
            ]
          },
          "metadata": {},
          "execution_count": 21
        }
      ]
    },
    {
      "cell_type": "markdown",
      "metadata": {
        "id": "dmNZ6PNgyrn3"
      },
      "source": [
        "#### pandas 데이터프레임을 이용한 그래프 "
      ]
    },
    {
      "cell_type": "code",
      "metadata": {
        "id": "WpzC6VNNyM_w",
        "colab": {
          "base_uri": "https://localhost:8080/",
          "height": 204
        },
        "outputId": "ebb97ba0-51e2-434e-a346-f0dddd1937cd"
      },
      "source": [
        "df = pd.DataFrame(dict(sine=y1), index=x1, columns=['sine'])\n",
        "df.head()"
      ],
      "execution_count": 22,
      "outputs": [
        {
          "output_type": "execute_result",
          "data": {
            "text/html": [
              "<div>\n",
              "<style scoped>\n",
              "    .dataframe tbody tr th:only-of-type {\n",
              "        vertical-align: middle;\n",
              "    }\n",
              "\n",
              "    .dataframe tbody tr th {\n",
              "        vertical-align: top;\n",
              "    }\n",
              "\n",
              "    .dataframe thead th {\n",
              "        text-align: right;\n",
              "    }\n",
              "</style>\n",
              "<table border=\"1\" class=\"dataframe\">\n",
              "  <thead>\n",
              "    <tr style=\"text-align: right;\">\n",
              "      <th></th>\n",
              "      <th>sine</th>\n",
              "    </tr>\n",
              "  </thead>\n",
              "  <tbody>\n",
              "    <tr>\n",
              "      <th>0.00</th>\n",
              "      <td>0.000000</td>\n",
              "    </tr>\n",
              "    <tr>\n",
              "      <th>0.01</th>\n",
              "      <td>0.062791</td>\n",
              "    </tr>\n",
              "    <tr>\n",
              "      <th>0.02</th>\n",
              "      <td>0.125333</td>\n",
              "    </tr>\n",
              "    <tr>\n",
              "      <th>0.03</th>\n",
              "      <td>0.187381</td>\n",
              "    </tr>\n",
              "    <tr>\n",
              "      <th>0.04</th>\n",
              "      <td>0.248690</td>\n",
              "    </tr>\n",
              "  </tbody>\n",
              "</table>\n",
              "</div>"
            ],
            "text/plain": [
              "          sine\n",
              "0.00  0.000000\n",
              "0.01  0.062791\n",
              "0.02  0.125333\n",
              "0.03  0.187381\n",
              "0.04  0.248690"
            ]
          },
          "metadata": {},
          "execution_count": 22
        }
      ]
    },
    {
      "cell_type": "code",
      "metadata": {
        "id": "jYGyLlgKz5PQ",
        "colab": {
          "base_uri": "https://localhost:8080/",
          "height": 204
        },
        "outputId": "6cd112e4-1b5c-4f46-880a-25c24b2819cf"
      },
      "source": [
        "df.tail()"
      ],
      "execution_count": 23,
      "outputs": [
        {
          "output_type": "execute_result",
          "data": {
            "text/html": [
              "<div>\n",
              "<style scoped>\n",
              "    .dataframe tbody tr th:only-of-type {\n",
              "        vertical-align: middle;\n",
              "    }\n",
              "\n",
              "    .dataframe tbody tr th {\n",
              "        vertical-align: top;\n",
              "    }\n",
              "\n",
              "    .dataframe thead th {\n",
              "        text-align: right;\n",
              "    }\n",
              "</style>\n",
              "<table border=\"1\" class=\"dataframe\">\n",
              "  <thead>\n",
              "    <tr style=\"text-align: right;\">\n",
              "      <th></th>\n",
              "      <th>sine</th>\n",
              "    </tr>\n",
              "  </thead>\n",
              "  <tbody>\n",
              "    <tr>\n",
              "      <th>4.95</th>\n",
              "      <td>-0.309017</td>\n",
              "    </tr>\n",
              "    <tr>\n",
              "      <th>4.96</th>\n",
              "      <td>-0.248690</td>\n",
              "    </tr>\n",
              "    <tr>\n",
              "      <th>4.97</th>\n",
              "      <td>-0.187381</td>\n",
              "    </tr>\n",
              "    <tr>\n",
              "      <th>4.98</th>\n",
              "      <td>-0.125333</td>\n",
              "    </tr>\n",
              "    <tr>\n",
              "      <th>4.99</th>\n",
              "      <td>-0.062791</td>\n",
              "    </tr>\n",
              "  </tbody>\n",
              "</table>\n",
              "</div>"
            ],
            "text/plain": [
              "          sine\n",
              "4.95 -0.309017\n",
              "4.96 -0.248690\n",
              "4.97 -0.187381\n",
              "4.98 -0.125333\n",
              "4.99 -0.062791"
            ]
          },
          "metadata": {},
          "execution_count": 23
        }
      ]
    },
    {
      "cell_type": "code",
      "metadata": {
        "colab": {
          "base_uri": "https://localhost:8080/"
        },
        "id": "13opRFxowCll",
        "outputId": "25da7f6f-b084-4616-b0f2-74422da0bb28"
      },
      "source": [
        "len(df)"
      ],
      "execution_count": 24,
      "outputs": [
        {
          "output_type": "execute_result",
          "data": {
            "text/plain": [
              "500"
            ]
          },
          "metadata": {},
          "execution_count": 24
        }
      ]
    },
    {
      "cell_type": "code",
      "metadata": {
        "id": "B4OFMcqd0AeF",
        "colab": {
          "base_uri": "https://localhost:8080/"
        },
        "outputId": "a12d63df-7ee6-4187-bd6a-8231af523df3"
      },
      "source": [
        "pre_size = int(len(df) * 0.8)\n",
        "post_size = len(df) - pre_size\n",
        "pre, post = df.iloc[0:pre_size], df.iloc[pre_size:len(df)]\n",
        "print(len(pre), len(post))"
      ],
      "execution_count": 25,
      "outputs": [
        {
          "output_type": "stream",
          "name": "stdout",
          "text": [
            "400 100\n"
          ]
        }
      ]
    },
    {
      "cell_type": "code",
      "metadata": {
        "id": "CZ_XDFxI2N7E",
        "colab": {
          "base_uri": "https://localhost:8080/"
        },
        "outputId": "f2f5037b-5aa3-4948-9b04-3a91c23551f0"
      },
      "source": [
        "post.shape"
      ],
      "execution_count": 27,
      "outputs": [
        {
          "output_type": "execute_result",
          "data": {
            "text/plain": [
              "(100, 1)"
            ]
          },
          "metadata": {},
          "execution_count": 27
        }
      ]
    },
    {
      "cell_type": "code",
      "metadata": {
        "id": "1tsmjL2s13dn"
      },
      "source": [
        "post2 = post + np.random.normal(scale=0.2, size=len(post)).reshape(-1,1)"
      ],
      "execution_count": 28,
      "outputs": []
    },
    {
      "cell_type": "code",
      "metadata": {
        "id": "yj7rZIK80xWk",
        "colab": {
          "base_uri": "https://localhost:8080/",
          "height": 334
        },
        "outputId": "303ae003-923a-457e-baae-1262e871425e"
      },
      "source": [
        "plt.figure(figsize=(10,5))\n",
        "plt.plot(np.arange(0, len(pre)), pre, 'g', label=\"pre\")\n",
        "plt.plot(np.arange(len(pre), len(pre) + len(post)), post, 'b', marker='.', label=\"post\")\n",
        "plt.plot(np.arange(len(pre), len(pre) + len(post)), post2, 'r', label=\"post2\")\n",
        "plt.ylabel('Value')\n",
        "plt.xlabel('Time Step')\n",
        "plt.legend()\n",
        "plt.show();"
      ],
      "execution_count": 29,
      "outputs": [
        {
          "output_type": "display_data",
          "data": {
            "image/png": "[encoded data removed]",
            "text/plain": [
              "<Figure size 720x360 with 1 Axes>"
            ]
          },
          "metadata": {
            "needs_background": "light"
          }
        }
      ]
    },
    {
      "cell_type": "markdown",
      "metadata": {
        "id": "GuMpCORM3A-2"
      },
      "source": [
        "#### post  post2를 동시에 그려서 두 그래프를 비교해보시오. \n",
        "\n",
        "- subplot 사용"
      ]
    },
    {
      "cell_type": "code",
      "metadata": {
        "id": "HvjeAmyL2WcY",
        "colab": {
          "base_uri": "https://localhost:8080/",
          "height": 53
        },
        "outputId": "d542d006-094f-4abf-e089-5ca9242fa9a0"
      },
      "source": [
        "plt.figure(figsize=(10,5))\n"
      ],
      "execution_count": 30,
      "outputs": [
        {
          "output_type": "execute_result",
          "data": {
            "text/plain": [
              "<Figure size 720x360 with 0 Axes>"
            ]
          },
          "metadata": {},
          "execution_count": 30
        },
        {
          "output_type": "display_data",
          "data": {
            "text/plain": [
              "<Figure size 720x360 with 0 Axes>"
            ]
          },
          "metadata": {}
        }
      ]
    },
    {
      "cell_type": "code",
      "metadata": {
        "id": "60uHxNvo3r9V"
      },
      "source": [
        ""
      ],
      "execution_count": null,
      "outputs": []
    }
  ]
}